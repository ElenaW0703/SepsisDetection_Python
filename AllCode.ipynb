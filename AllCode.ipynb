{
 "cells": [
  {
   "cell_type": "code",
   "execution_count": 72,
   "id": "8ee068f6-f290-4d08-85fb-eae2d28b7557",
   "metadata": {},
   "outputs": [],
   "source": [
    "# load packages\n",
    "import numpy as np\n",
    "import pandas as pd\n",
    "import matplotlib.pyplot as plt\n",
    "from matplotlib import pyplot\n",
    "import seaborn as sns\n",
    "import sklearn\n",
    "from sklearn import linear_model, preprocessing\n",
    "from sklearn.impute import SimpleImputer\n",
    "from sklearn.preprocessing import StandardScaler, MinMaxScaler\n",
    "from sklearn.linear_model import SGDClassifier, Lasso\n",
    "from sklearn.decomposition import PCA\n",
    "from sklearn.tree import DecisionTreeClassifier\n",
    "from sklearn.ensemble import RandomForestClassifier\n",
    "from sklearn.pipeline import make_pipeline\n",
    "from sklearn.metrics import accuracy_score, roc_auc_score, f1_score, confusion_matrix, classification_report, auc, roc_curve, RocCurveDisplay\n",
    "from sklearn.model_selection import train_test_split, GridSearchCV, StratifiedKFold, StratifiedShuffleSplit\n",
    "from sklearn.neighbors import KNeighborsClassifier\n",
    "from sklearn.naive_bayes import GaussianNB\n",
    "from sklearn.inspection import permutation_importance\n",
    "\n",
    "import umap\n",
    "from umap import UMAP\n",
    "import os\n",
    "import pickle\n",
    "import random\n",
    "import imblearn\n",
    "# pip install -U imbalanced-learn\n",
    "from imblearn.over_sampling import SMOTENC\n",
    "# pip install --upgrade tensorflow\n",
    "import tensorflow as tf\n",
    "# %pip install xgboost\n",
    "import xgboost as xgb"
   ]
  },
  {
   "cell_type": "markdown",
   "id": "9392a924-019f-4f8f-b8d2-318148f0cfe8",
   "metadata": {
    "tags": []
   },
   "source": [
    "# Data Cleaning"
   ]
  },
  {
   "cell_type": "code",
   "execution_count": 3,
   "id": "1b69ba0a-b7cf-4943-858d-ce19d80edb25",
   "metadata": {},
   "outputs": [],
   "source": [
    "# setpath = '/Users/xiaoy/OneDrive/Desktop/finalproj_STA663/training_setA/training_original'\n",
    "# savepath = '/Users/xiaoy/OneDrive/Desktop/finalproj_STA663/training_setA/training_original_noUnit/'"
   ]
  },
  {
   "cell_type": "code",
   "execution_count": 4,
   "id": "27a9317d-d557-4db7-ae38-43083463a29f",
   "metadata": {},
   "outputs": [],
   "source": [
    "# subjectid = sorted(os.listdir(setpath))\n",
    "# for sid in subjectid:\n",
    "#     df1 = pd.read_csv(setpath + '/' + sid, sep = \"|\")\n",
    "#     df1 = df1.drop(['Unit1', 'Unit2', 'HospAdmTime','ICULOS'], axis=1)\n",
    "#     df1['SubjectID'] = [sid[0:7]] * len(df1)\n",
    "#     df1.to_csv(savepath + sid, index = False)"
   ]
  },
  {
   "cell_type": "code",
   "execution_count": 5,
   "id": "9a6b2da0-12d4-4c19-ac95-3de3b96773e0",
   "metadata": {},
   "outputs": [],
   "source": [
    "# with open(\"/Users/xiaoy/OneDrive/Desktop/finalproj_STA663/training_setA/training_original_noUnit.psv\", \"wb\") as fout:\n",
    "#     for i, csv in enumerate(subjectid):\n",
    "#         if i == 0:\n",
    "#             with open(savepath + csv, \"rb\") as f:\n",
    "#                 fout.write(f.read())\n",
    "#       # now the rest:    \n",
    "#         with open(savepath  + csv, \"rb\") as f:\n",
    "#             next(f) \n",
    "#             fout.write(f.read())"
   ]
  },
  {
   "cell_type": "code",
   "execution_count": 6,
   "id": "70e907ec-629b-4ee8-8096-a360dbd6e723",
   "metadata": {},
   "outputs": [
    {
     "data": {
      "text/html": [
       "<div>\n",
       "<style scoped>\n",
       "    .dataframe tbody tr th:only-of-type {\n",
       "        vertical-align: middle;\n",
       "    }\n",
       "\n",
       "    .dataframe tbody tr th {\n",
       "        vertical-align: top;\n",
       "    }\n",
       "\n",
       "    .dataframe thead th {\n",
       "        text-align: right;\n",
       "    }\n",
       "</style>\n",
       "<table border=\"1\" class=\"dataframe\">\n",
       "  <thead>\n",
       "    <tr style=\"text-align: right;\">\n",
       "      <th></th>\n",
       "      <th>HR</th>\n",
       "      <th>O2Sat</th>\n",
       "      <th>Temp</th>\n",
       "      <th>SBP</th>\n",
       "      <th>MAP</th>\n",
       "      <th>DBP</th>\n",
       "      <th>Resp</th>\n",
       "      <th>EtCO2</th>\n",
       "      <th>BaseExcess</th>\n",
       "      <th>HCO3</th>\n",
       "      <th>...</th>\n",
       "      <th>Hct</th>\n",
       "      <th>Hgb</th>\n",
       "      <th>PTT</th>\n",
       "      <th>WBC</th>\n",
       "      <th>Fibrinogen</th>\n",
       "      <th>Platelets</th>\n",
       "      <th>Age</th>\n",
       "      <th>Gender</th>\n",
       "      <th>SepsisLabel</th>\n",
       "      <th>SubjectID</th>\n",
       "    </tr>\n",
       "  </thead>\n",
       "  <tbody>\n",
       "    <tr>\n",
       "      <th>0</th>\n",
       "      <td>NaN</td>\n",
       "      <td>NaN</td>\n",
       "      <td>NaN</td>\n",
       "      <td>NaN</td>\n",
       "      <td>NaN</td>\n",
       "      <td>NaN</td>\n",
       "      <td>NaN</td>\n",
       "      <td>NaN</td>\n",
       "      <td>NaN</td>\n",
       "      <td>NaN</td>\n",
       "      <td>...</td>\n",
       "      <td>NaN</td>\n",
       "      <td>NaN</td>\n",
       "      <td>NaN</td>\n",
       "      <td>NaN</td>\n",
       "      <td>NaN</td>\n",
       "      <td>NaN</td>\n",
       "      <td>83.14</td>\n",
       "      <td>0</td>\n",
       "      <td>0</td>\n",
       "      <td>p000001</td>\n",
       "    </tr>\n",
       "    <tr>\n",
       "      <th>1</th>\n",
       "      <td>97.0</td>\n",
       "      <td>95.0</td>\n",
       "      <td>NaN</td>\n",
       "      <td>98.0</td>\n",
       "      <td>75.33</td>\n",
       "      <td>NaN</td>\n",
       "      <td>19.0</td>\n",
       "      <td>NaN</td>\n",
       "      <td>NaN</td>\n",
       "      <td>NaN</td>\n",
       "      <td>...</td>\n",
       "      <td>NaN</td>\n",
       "      <td>NaN</td>\n",
       "      <td>NaN</td>\n",
       "      <td>NaN</td>\n",
       "      <td>NaN</td>\n",
       "      <td>NaN</td>\n",
       "      <td>83.14</td>\n",
       "      <td>0</td>\n",
       "      <td>0</td>\n",
       "      <td>p000001</td>\n",
       "    </tr>\n",
       "    <tr>\n",
       "      <th>2</th>\n",
       "      <td>89.0</td>\n",
       "      <td>99.0</td>\n",
       "      <td>NaN</td>\n",
       "      <td>122.0</td>\n",
       "      <td>86.00</td>\n",
       "      <td>NaN</td>\n",
       "      <td>22.0</td>\n",
       "      <td>NaN</td>\n",
       "      <td>NaN</td>\n",
       "      <td>NaN</td>\n",
       "      <td>...</td>\n",
       "      <td>NaN</td>\n",
       "      <td>NaN</td>\n",
       "      <td>NaN</td>\n",
       "      <td>NaN</td>\n",
       "      <td>NaN</td>\n",
       "      <td>NaN</td>\n",
       "      <td>83.14</td>\n",
       "      <td>0</td>\n",
       "      <td>0</td>\n",
       "      <td>p000001</td>\n",
       "    </tr>\n",
       "    <tr>\n",
       "      <th>3</th>\n",
       "      <td>90.0</td>\n",
       "      <td>95.0</td>\n",
       "      <td>NaN</td>\n",
       "      <td>NaN</td>\n",
       "      <td>NaN</td>\n",
       "      <td>NaN</td>\n",
       "      <td>30.0</td>\n",
       "      <td>NaN</td>\n",
       "      <td>24.0</td>\n",
       "      <td>NaN</td>\n",
       "      <td>...</td>\n",
       "      <td>NaN</td>\n",
       "      <td>NaN</td>\n",
       "      <td>NaN</td>\n",
       "      <td>NaN</td>\n",
       "      <td>NaN</td>\n",
       "      <td>NaN</td>\n",
       "      <td>83.14</td>\n",
       "      <td>0</td>\n",
       "      <td>0</td>\n",
       "      <td>p000001</td>\n",
       "    </tr>\n",
       "    <tr>\n",
       "      <th>4</th>\n",
       "      <td>103.0</td>\n",
       "      <td>88.5</td>\n",
       "      <td>NaN</td>\n",
       "      <td>122.0</td>\n",
       "      <td>91.33</td>\n",
       "      <td>NaN</td>\n",
       "      <td>24.5</td>\n",
       "      <td>NaN</td>\n",
       "      <td>NaN</td>\n",
       "      <td>NaN</td>\n",
       "      <td>...</td>\n",
       "      <td>NaN</td>\n",
       "      <td>NaN</td>\n",
       "      <td>NaN</td>\n",
       "      <td>NaN</td>\n",
       "      <td>NaN</td>\n",
       "      <td>NaN</td>\n",
       "      <td>83.14</td>\n",
       "      <td>0</td>\n",
       "      <td>0</td>\n",
       "      <td>p000001</td>\n",
       "    </tr>\n",
       "    <tr>\n",
       "      <th>...</th>\n",
       "      <td>...</td>\n",
       "      <td>...</td>\n",
       "      <td>...</td>\n",
       "      <td>...</td>\n",
       "      <td>...</td>\n",
       "      <td>...</td>\n",
       "      <td>...</td>\n",
       "      <td>...</td>\n",
       "      <td>...</td>\n",
       "      <td>...</td>\n",
       "      <td>...</td>\n",
       "      <td>...</td>\n",
       "      <td>...</td>\n",
       "      <td>...</td>\n",
       "      <td>...</td>\n",
       "      <td>...</td>\n",
       "      <td>...</td>\n",
       "      <td>...</td>\n",
       "      <td>...</td>\n",
       "      <td>...</td>\n",
       "      <td>...</td>\n",
       "    </tr>\n",
       "    <tr>\n",
       "      <th>790264</th>\n",
       "      <td>88.0</td>\n",
       "      <td>98.0</td>\n",
       "      <td>NaN</td>\n",
       "      <td>135.0</td>\n",
       "      <td>81.00</td>\n",
       "      <td>64.0</td>\n",
       "      <td>16.0</td>\n",
       "      <td>NaN</td>\n",
       "      <td>NaN</td>\n",
       "      <td>NaN</td>\n",
       "      <td>...</td>\n",
       "      <td>NaN</td>\n",
       "      <td>NaN</td>\n",
       "      <td>NaN</td>\n",
       "      <td>NaN</td>\n",
       "      <td>NaN</td>\n",
       "      <td>NaN</td>\n",
       "      <td>62.29</td>\n",
       "      <td>1</td>\n",
       "      <td>1</td>\n",
       "      <td>p020643</td>\n",
       "    </tr>\n",
       "    <tr>\n",
       "      <th>790265</th>\n",
       "      <td>96.0</td>\n",
       "      <td>98.0</td>\n",
       "      <td>38.72</td>\n",
       "      <td>174.0</td>\n",
       "      <td>97.00</td>\n",
       "      <td>72.0</td>\n",
       "      <td>16.0</td>\n",
       "      <td>NaN</td>\n",
       "      <td>2.0</td>\n",
       "      <td>NaN</td>\n",
       "      <td>...</td>\n",
       "      <td>27.8</td>\n",
       "      <td>NaN</td>\n",
       "      <td>NaN</td>\n",
       "      <td>NaN</td>\n",
       "      <td>NaN</td>\n",
       "      <td>NaN</td>\n",
       "      <td>62.29</td>\n",
       "      <td>1</td>\n",
       "      <td>1</td>\n",
       "      <td>p020643</td>\n",
       "    </tr>\n",
       "    <tr>\n",
       "      <th>790266</th>\n",
       "      <td>140.0</td>\n",
       "      <td>97.0</td>\n",
       "      <td>NaN</td>\n",
       "      <td>133.0</td>\n",
       "      <td>81.50</td>\n",
       "      <td>62.5</td>\n",
       "      <td>16.0</td>\n",
       "      <td>NaN</td>\n",
       "      <td>NaN</td>\n",
       "      <td>NaN</td>\n",
       "      <td>...</td>\n",
       "      <td>NaN</td>\n",
       "      <td>NaN</td>\n",
       "      <td>NaN</td>\n",
       "      <td>NaN</td>\n",
       "      <td>NaN</td>\n",
       "      <td>NaN</td>\n",
       "      <td>62.29</td>\n",
       "      <td>1</td>\n",
       "      <td>1</td>\n",
       "      <td>p020643</td>\n",
       "    </tr>\n",
       "    <tr>\n",
       "      <th>790267</th>\n",
       "      <td>120.0</td>\n",
       "      <td>96.0</td>\n",
       "      <td>NaN</td>\n",
       "      <td>154.0</td>\n",
       "      <td>118.00</td>\n",
       "      <td>105.0</td>\n",
       "      <td>16.0</td>\n",
       "      <td>NaN</td>\n",
       "      <td>NaN</td>\n",
       "      <td>NaN</td>\n",
       "      <td>...</td>\n",
       "      <td>NaN</td>\n",
       "      <td>NaN</td>\n",
       "      <td>NaN</td>\n",
       "      <td>NaN</td>\n",
       "      <td>NaN</td>\n",
       "      <td>NaN</td>\n",
       "      <td>62.29</td>\n",
       "      <td>1</td>\n",
       "      <td>1</td>\n",
       "      <td>p020643</td>\n",
       "    </tr>\n",
       "    <tr>\n",
       "      <th>790268</th>\n",
       "      <td>115.0</td>\n",
       "      <td>95.0</td>\n",
       "      <td>NaN</td>\n",
       "      <td>150.0</td>\n",
       "      <td>117.00</td>\n",
       "      <td>104.0</td>\n",
       "      <td>16.0</td>\n",
       "      <td>NaN</td>\n",
       "      <td>NaN</td>\n",
       "      <td>NaN</td>\n",
       "      <td>...</td>\n",
       "      <td>NaN</td>\n",
       "      <td>NaN</td>\n",
       "      <td>NaN</td>\n",
       "      <td>NaN</td>\n",
       "      <td>NaN</td>\n",
       "      <td>NaN</td>\n",
       "      <td>62.29</td>\n",
       "      <td>1</td>\n",
       "      <td>1</td>\n",
       "      <td>p020643</td>\n",
       "    </tr>\n",
       "  </tbody>\n",
       "</table>\n",
       "<p>790269 rows × 38 columns</p>\n",
       "</div>"
      ],
      "text/plain": [
       "           HR  O2Sat   Temp    SBP     MAP    DBP  Resp  EtCO2  BaseExcess  \\\n",
       "0         NaN    NaN    NaN    NaN     NaN    NaN   NaN    NaN         NaN   \n",
       "1        97.0   95.0    NaN   98.0   75.33    NaN  19.0    NaN         NaN   \n",
       "2        89.0   99.0    NaN  122.0   86.00    NaN  22.0    NaN         NaN   \n",
       "3        90.0   95.0    NaN    NaN     NaN    NaN  30.0    NaN        24.0   \n",
       "4       103.0   88.5    NaN  122.0   91.33    NaN  24.5    NaN         NaN   \n",
       "...       ...    ...    ...    ...     ...    ...   ...    ...         ...   \n",
       "790264   88.0   98.0    NaN  135.0   81.00   64.0  16.0    NaN         NaN   \n",
       "790265   96.0   98.0  38.72  174.0   97.00   72.0  16.0    NaN         2.0   \n",
       "790266  140.0   97.0    NaN  133.0   81.50   62.5  16.0    NaN         NaN   \n",
       "790267  120.0   96.0    NaN  154.0  118.00  105.0  16.0    NaN         NaN   \n",
       "790268  115.0   95.0    NaN  150.0  117.00  104.0  16.0    NaN         NaN   \n",
       "\n",
       "        HCO3  ...   Hct  Hgb  PTT  WBC  Fibrinogen  Platelets    Age  Gender  \\\n",
       "0        NaN  ...   NaN  NaN  NaN  NaN         NaN        NaN  83.14       0   \n",
       "1        NaN  ...   NaN  NaN  NaN  NaN         NaN        NaN  83.14       0   \n",
       "2        NaN  ...   NaN  NaN  NaN  NaN         NaN        NaN  83.14       0   \n",
       "3        NaN  ...   NaN  NaN  NaN  NaN         NaN        NaN  83.14       0   \n",
       "4        NaN  ...   NaN  NaN  NaN  NaN         NaN        NaN  83.14       0   \n",
       "...      ...  ...   ...  ...  ...  ...         ...        ...    ...     ...   \n",
       "790264   NaN  ...   NaN  NaN  NaN  NaN         NaN        NaN  62.29       1   \n",
       "790265   NaN  ...  27.8  NaN  NaN  NaN         NaN        NaN  62.29       1   \n",
       "790266   NaN  ...   NaN  NaN  NaN  NaN         NaN        NaN  62.29       1   \n",
       "790267   NaN  ...   NaN  NaN  NaN  NaN         NaN        NaN  62.29       1   \n",
       "790268   NaN  ...   NaN  NaN  NaN  NaN         NaN        NaN  62.29       1   \n",
       "\n",
       "        SepsisLabel  SubjectID  \n",
       "0                 0    p000001  \n",
       "1                 0    p000001  \n",
       "2                 0    p000001  \n",
       "3                 0    p000001  \n",
       "4                 0    p000001  \n",
       "...             ...        ...  \n",
       "790264            1    p020643  \n",
       "790265            1    p020643  \n",
       "790266            1    p020643  \n",
       "790267            1    p020643  \n",
       "790268            1    p020643  \n",
       "\n",
       "[790269 rows x 38 columns]"
      ]
     },
     "execution_count": 6,
     "metadata": {},
     "output_type": "execute_result"
    }
   ],
   "source": [
    "A_original = pd.read_csv(\"/Users/xiaoy/OneDrive/Desktop/finalproj_STA663/training_setA/training_original_noUnit.psv\",sep = \",\")\n",
    "A_original"
   ]
  },
  {
   "cell_type": "code",
   "execution_count": 7,
   "id": "2a78425b-00a5-49b3-aecb-033d41626e31",
   "metadata": {},
   "outputs": [],
   "source": [
    "# setpathB = '/Users/xiaoy/OneDrive/Desktop/finalproj_STA663/training_setB/testing_original'\n",
    "# savepathB = '/Users/xiaoy/OneDrive/Desktop/finalproj_STA663/training_setB/testing_original_noUnit/'\n",
    "\n",
    "# vars = ['HR','O2Sat','Temp','SBP','MAP','DBP','Resp','EtCO2','BaseExcess','HCO3','FiO2','pH','PaCO2','SaO2',\n",
    "#  'AST','BUN','Alkalinephos','Calcium','Chloride','Creatinine','Bilirubin_direct','Glucose','Lactate','Magnesium',\n",
    "#  'Phosphate','Potassium','Bilirubin_total','TroponinI','Hct','Hgb','PTT','WBC','Fibrinogen','Platelets','Age',\n",
    "#         'Gender']"
   ]
  },
  {
   "cell_type": "code",
   "execution_count": 8,
   "id": "acdc5f1d-3900-4a39-b07e-876ab8bdff38",
   "metadata": {},
   "outputs": [],
   "source": [
    "# subjectidB = sorted(os.listdir(setpathB))\n",
    "# for sid in subjectidB:\n",
    "#     df2 = pd.read_csv(setpathB + '/' + sid, sep = \"|\")\n",
    "#     df2 = df2.drop(['Unit1', 'Unit2', 'HospAdmTime','ICULOS'], axis=1)\n",
    "#     df2['SubjectID'] = [sid[0:7]] * len(df2)\n",
    "#     df2.to_csv(savepathB + sid, index = False)"
   ]
  },
  {
   "cell_type": "code",
   "execution_count": 9,
   "id": "364dae46-3327-4d65-b365-70f74101864f",
   "metadata": {},
   "outputs": [],
   "source": [
    "# with open(\"/Users/xiaoy/OneDrive/Desktop/finalproj_STA663/training_setB/testing_original_noUnit.psv\", \"wb\") as fout:\n",
    "#     for i, csv in enumerate(subjectidB):\n",
    "#         if i == 0:\n",
    "#             with open(savepathB + csv, \"rb\") as f:\n",
    "#                 fout.write(f.read())\n",
    "#       # now the rest:    \n",
    "#         with open(savepathB  + csv, \"rb\") as f:\n",
    "#             next(f) \n",
    "#             fout.write(f.read())"
   ]
  },
  {
   "cell_type": "code",
   "execution_count": 10,
   "id": "8f58bc94-b2a4-4ef8-a4e5-e0224d577ccf",
   "metadata": {},
   "outputs": [
    {
     "data": {
      "text/html": [
       "<div>\n",
       "<style scoped>\n",
       "    .dataframe tbody tr th:only-of-type {\n",
       "        vertical-align: middle;\n",
       "    }\n",
       "\n",
       "    .dataframe tbody tr th {\n",
       "        vertical-align: top;\n",
       "    }\n",
       "\n",
       "    .dataframe thead th {\n",
       "        text-align: right;\n",
       "    }\n",
       "</style>\n",
       "<table border=\"1\" class=\"dataframe\">\n",
       "  <thead>\n",
       "    <tr style=\"text-align: right;\">\n",
       "      <th></th>\n",
       "      <th>HR</th>\n",
       "      <th>O2Sat</th>\n",
       "      <th>Temp</th>\n",
       "      <th>SBP</th>\n",
       "      <th>MAP</th>\n",
       "      <th>DBP</th>\n",
       "      <th>Resp</th>\n",
       "      <th>EtCO2</th>\n",
       "      <th>BaseExcess</th>\n",
       "      <th>HCO3</th>\n",
       "      <th>...</th>\n",
       "      <th>Hct</th>\n",
       "      <th>Hgb</th>\n",
       "      <th>PTT</th>\n",
       "      <th>WBC</th>\n",
       "      <th>Fibrinogen</th>\n",
       "      <th>Platelets</th>\n",
       "      <th>Age</th>\n",
       "      <th>Gender</th>\n",
       "      <th>SepsisLabel</th>\n",
       "      <th>SubjectID</th>\n",
       "    </tr>\n",
       "  </thead>\n",
       "  <tbody>\n",
       "    <tr>\n",
       "      <th>0</th>\n",
       "      <td>NaN</td>\n",
       "      <td>NaN</td>\n",
       "      <td>NaN</td>\n",
       "      <td>NaN</td>\n",
       "      <td>NaN</td>\n",
       "      <td>NaN</td>\n",
       "      <td>NaN</td>\n",
       "      <td>NaN</td>\n",
       "      <td>NaN</td>\n",
       "      <td>NaN</td>\n",
       "      <td>...</td>\n",
       "      <td>NaN</td>\n",
       "      <td>NaN</td>\n",
       "      <td>NaN</td>\n",
       "      <td>NaN</td>\n",
       "      <td>NaN</td>\n",
       "      <td>NaN</td>\n",
       "      <td>73</td>\n",
       "      <td>1</td>\n",
       "      <td>0</td>\n",
       "      <td>p100001</td>\n",
       "    </tr>\n",
       "    <tr>\n",
       "      <th>1</th>\n",
       "      <td>93.0</td>\n",
       "      <td>92.5</td>\n",
       "      <td>NaN</td>\n",
       "      <td>110.0</td>\n",
       "      <td>76.0</td>\n",
       "      <td>56.0</td>\n",
       "      <td>22.0</td>\n",
       "      <td>NaN</td>\n",
       "      <td>NaN</td>\n",
       "      <td>NaN</td>\n",
       "      <td>...</td>\n",
       "      <td>NaN</td>\n",
       "      <td>NaN</td>\n",
       "      <td>NaN</td>\n",
       "      <td>NaN</td>\n",
       "      <td>NaN</td>\n",
       "      <td>NaN</td>\n",
       "      <td>73</td>\n",
       "      <td>1</td>\n",
       "      <td>0</td>\n",
       "      <td>p100001</td>\n",
       "    </tr>\n",
       "    <tr>\n",
       "      <th>2</th>\n",
       "      <td>91.0</td>\n",
       "      <td>96.0</td>\n",
       "      <td>NaN</td>\n",
       "      <td>108.0</td>\n",
       "      <td>84.5</td>\n",
       "      <td>72.0</td>\n",
       "      <td>23.5</td>\n",
       "      <td>NaN</td>\n",
       "      <td>NaN</td>\n",
       "      <td>NaN</td>\n",
       "      <td>...</td>\n",
       "      <td>NaN</td>\n",
       "      <td>NaN</td>\n",
       "      <td>NaN</td>\n",
       "      <td>NaN</td>\n",
       "      <td>NaN</td>\n",
       "      <td>NaN</td>\n",
       "      <td>73</td>\n",
       "      <td>1</td>\n",
       "      <td>0</td>\n",
       "      <td>p100001</td>\n",
       "    </tr>\n",
       "    <tr>\n",
       "      <th>3</th>\n",
       "      <td>93.0</td>\n",
       "      <td>98.0</td>\n",
       "      <td>NaN</td>\n",
       "      <td>123.0</td>\n",
       "      <td>87.0</td>\n",
       "      <td>61.0</td>\n",
       "      <td>21.0</td>\n",
       "      <td>NaN</td>\n",
       "      <td>NaN</td>\n",
       "      <td>NaN</td>\n",
       "      <td>...</td>\n",
       "      <td>NaN</td>\n",
       "      <td>NaN</td>\n",
       "      <td>NaN</td>\n",
       "      <td>NaN</td>\n",
       "      <td>NaN</td>\n",
       "      <td>NaN</td>\n",
       "      <td>73</td>\n",
       "      <td>1</td>\n",
       "      <td>0</td>\n",
       "      <td>p100001</td>\n",
       "    </tr>\n",
       "    <tr>\n",
       "      <th>4</th>\n",
       "      <td>93.0</td>\n",
       "      <td>95.0</td>\n",
       "      <td>NaN</td>\n",
       "      <td>110.0</td>\n",
       "      <td>81.0</td>\n",
       "      <td>70.0</td>\n",
       "      <td>20.0</td>\n",
       "      <td>NaN</td>\n",
       "      <td>NaN</td>\n",
       "      <td>NaN</td>\n",
       "      <td>...</td>\n",
       "      <td>NaN</td>\n",
       "      <td>NaN</td>\n",
       "      <td>NaN</td>\n",
       "      <td>NaN</td>\n",
       "      <td>NaN</td>\n",
       "      <td>NaN</td>\n",
       "      <td>73</td>\n",
       "      <td>1</td>\n",
       "      <td>0</td>\n",
       "      <td>p100001</td>\n",
       "    </tr>\n",
       "    <tr>\n",
       "      <th>...</th>\n",
       "      <td>...</td>\n",
       "      <td>...</td>\n",
       "      <td>...</td>\n",
       "      <td>...</td>\n",
       "      <td>...</td>\n",
       "      <td>...</td>\n",
       "      <td>...</td>\n",
       "      <td>...</td>\n",
       "      <td>...</td>\n",
       "      <td>...</td>\n",
       "      <td>...</td>\n",
       "      <td>...</td>\n",
       "      <td>...</td>\n",
       "      <td>...</td>\n",
       "      <td>...</td>\n",
       "      <td>...</td>\n",
       "      <td>...</td>\n",
       "      <td>...</td>\n",
       "      <td>...</td>\n",
       "      <td>...</td>\n",
       "      <td>...</td>\n",
       "    </tr>\n",
       "    <tr>\n",
       "      <th>762014</th>\n",
       "      <td>80.0</td>\n",
       "      <td>96.0</td>\n",
       "      <td>NaN</td>\n",
       "      <td>115.0</td>\n",
       "      <td>87.0</td>\n",
       "      <td>65.0</td>\n",
       "      <td>15.0</td>\n",
       "      <td>NaN</td>\n",
       "      <td>NaN</td>\n",
       "      <td>NaN</td>\n",
       "      <td>...</td>\n",
       "      <td>NaN</td>\n",
       "      <td>NaN</td>\n",
       "      <td>NaN</td>\n",
       "      <td>NaN</td>\n",
       "      <td>NaN</td>\n",
       "      <td>NaN</td>\n",
       "      <td>62</td>\n",
       "      <td>0</td>\n",
       "      <td>0</td>\n",
       "      <td>p120000</td>\n",
       "    </tr>\n",
       "    <tr>\n",
       "      <th>762015</th>\n",
       "      <td>74.0</td>\n",
       "      <td>97.0</td>\n",
       "      <td>NaN</td>\n",
       "      <td>114.0</td>\n",
       "      <td>83.0</td>\n",
       "      <td>67.0</td>\n",
       "      <td>15.0</td>\n",
       "      <td>NaN</td>\n",
       "      <td>NaN</td>\n",
       "      <td>NaN</td>\n",
       "      <td>...</td>\n",
       "      <td>NaN</td>\n",
       "      <td>NaN</td>\n",
       "      <td>NaN</td>\n",
       "      <td>NaN</td>\n",
       "      <td>NaN</td>\n",
       "      <td>NaN</td>\n",
       "      <td>62</td>\n",
       "      <td>0</td>\n",
       "      <td>0</td>\n",
       "      <td>p120000</td>\n",
       "    </tr>\n",
       "    <tr>\n",
       "      <th>762016</th>\n",
       "      <td>78.0</td>\n",
       "      <td>98.0</td>\n",
       "      <td>NaN</td>\n",
       "      <td>110.0</td>\n",
       "      <td>83.0</td>\n",
       "      <td>69.0</td>\n",
       "      <td>15.0</td>\n",
       "      <td>NaN</td>\n",
       "      <td>NaN</td>\n",
       "      <td>NaN</td>\n",
       "      <td>...</td>\n",
       "      <td>NaN</td>\n",
       "      <td>NaN</td>\n",
       "      <td>NaN</td>\n",
       "      <td>NaN</td>\n",
       "      <td>NaN</td>\n",
       "      <td>NaN</td>\n",
       "      <td>62</td>\n",
       "      <td>0</td>\n",
       "      <td>0</td>\n",
       "      <td>p120000</td>\n",
       "    </tr>\n",
       "    <tr>\n",
       "      <th>762017</th>\n",
       "      <td>82.0</td>\n",
       "      <td>99.0</td>\n",
       "      <td>36.6</td>\n",
       "      <td>124.0</td>\n",
       "      <td>91.0</td>\n",
       "      <td>71.0</td>\n",
       "      <td>16.0</td>\n",
       "      <td>NaN</td>\n",
       "      <td>NaN</td>\n",
       "      <td>NaN</td>\n",
       "      <td>...</td>\n",
       "      <td>NaN</td>\n",
       "      <td>NaN</td>\n",
       "      <td>NaN</td>\n",
       "      <td>NaN</td>\n",
       "      <td>NaN</td>\n",
       "      <td>NaN</td>\n",
       "      <td>62</td>\n",
       "      <td>0</td>\n",
       "      <td>0</td>\n",
       "      <td>p120000</td>\n",
       "    </tr>\n",
       "    <tr>\n",
       "      <th>762018</th>\n",
       "      <td>80.0</td>\n",
       "      <td>97.0</td>\n",
       "      <td>NaN</td>\n",
       "      <td>121.0</td>\n",
       "      <td>97.0</td>\n",
       "      <td>73.0</td>\n",
       "      <td>15.0</td>\n",
       "      <td>NaN</td>\n",
       "      <td>NaN</td>\n",
       "      <td>NaN</td>\n",
       "      <td>...</td>\n",
       "      <td>NaN</td>\n",
       "      <td>NaN</td>\n",
       "      <td>NaN</td>\n",
       "      <td>NaN</td>\n",
       "      <td>NaN</td>\n",
       "      <td>NaN</td>\n",
       "      <td>62</td>\n",
       "      <td>0</td>\n",
       "      <td>0</td>\n",
       "      <td>p120000</td>\n",
       "    </tr>\n",
       "  </tbody>\n",
       "</table>\n",
       "<p>762019 rows × 38 columns</p>\n",
       "</div>"
      ],
      "text/plain": [
       "          HR  O2Sat  Temp    SBP   MAP   DBP  Resp  EtCO2  BaseExcess  HCO3  \\\n",
       "0        NaN    NaN   NaN    NaN   NaN   NaN   NaN    NaN         NaN   NaN   \n",
       "1       93.0   92.5   NaN  110.0  76.0  56.0  22.0    NaN         NaN   NaN   \n",
       "2       91.0   96.0   NaN  108.0  84.5  72.0  23.5    NaN         NaN   NaN   \n",
       "3       93.0   98.0   NaN  123.0  87.0  61.0  21.0    NaN         NaN   NaN   \n",
       "4       93.0   95.0   NaN  110.0  81.0  70.0  20.0    NaN         NaN   NaN   \n",
       "...      ...    ...   ...    ...   ...   ...   ...    ...         ...   ...   \n",
       "762014  80.0   96.0   NaN  115.0  87.0  65.0  15.0    NaN         NaN   NaN   \n",
       "762015  74.0   97.0   NaN  114.0  83.0  67.0  15.0    NaN         NaN   NaN   \n",
       "762016  78.0   98.0   NaN  110.0  83.0  69.0  15.0    NaN         NaN   NaN   \n",
       "762017  82.0   99.0  36.6  124.0  91.0  71.0  16.0    NaN         NaN   NaN   \n",
       "762018  80.0   97.0   NaN  121.0  97.0  73.0  15.0    NaN         NaN   NaN   \n",
       "\n",
       "        ...  Hct  Hgb  PTT  WBC  Fibrinogen  Platelets  Age  Gender  \\\n",
       "0       ...  NaN  NaN  NaN  NaN         NaN        NaN   73       1   \n",
       "1       ...  NaN  NaN  NaN  NaN         NaN        NaN   73       1   \n",
       "2       ...  NaN  NaN  NaN  NaN         NaN        NaN   73       1   \n",
       "3       ...  NaN  NaN  NaN  NaN         NaN        NaN   73       1   \n",
       "4       ...  NaN  NaN  NaN  NaN         NaN        NaN   73       1   \n",
       "...     ...  ...  ...  ...  ...         ...        ...  ...     ...   \n",
       "762014  ...  NaN  NaN  NaN  NaN         NaN        NaN   62       0   \n",
       "762015  ...  NaN  NaN  NaN  NaN         NaN        NaN   62       0   \n",
       "762016  ...  NaN  NaN  NaN  NaN         NaN        NaN   62       0   \n",
       "762017  ...  NaN  NaN  NaN  NaN         NaN        NaN   62       0   \n",
       "762018  ...  NaN  NaN  NaN  NaN         NaN        NaN   62       0   \n",
       "\n",
       "        SepsisLabel  SubjectID  \n",
       "0                 0    p100001  \n",
       "1                 0    p100001  \n",
       "2                 0    p100001  \n",
       "3                 0    p100001  \n",
       "4                 0    p100001  \n",
       "...             ...        ...  \n",
       "762014            0    p120000  \n",
       "762015            0    p120000  \n",
       "762016            0    p120000  \n",
       "762017            0    p120000  \n",
       "762018            0    p120000  \n",
       "\n",
       "[762019 rows x 38 columns]"
      ]
     },
     "execution_count": 10,
     "metadata": {},
     "output_type": "execute_result"
    }
   ],
   "source": [
    "B_original = pd.read_csv(\"/Users/xiaoy/OneDrive/Desktop/finalproj_STA663/training_setB/testing_original_noUnit.psv\",sep = \",\")\n",
    "B_original"
   ]
  },
  {
   "cell_type": "code",
   "execution_count": 11,
   "id": "19e92356-c7e3-4f87-a1ee-4dbaa047b7d7",
   "metadata": {},
   "outputs": [
    {
     "data": {
      "text/plain": [
       "HR                   61194\n",
       "O2Sat                95089\n",
       "Temp                523358\n",
       "SBP                 120213\n",
       "MAP                  80870\n",
       "DBP                 380351\n",
       "Resp                 77262\n",
       "EtCO2               790269\n",
       "BaseExcess          707881\n",
       "HCO3                726650\n",
       "FiO2                678110\n",
       "pH                  699647\n",
       "PaCO2               720975\n",
       "SaO2                751105\n",
       "AST                 778448\n",
       "BUN                 725791\n",
       "Alkalinephos        778736\n",
       "Calcium             750949\n",
       "Chloride            724490\n",
       "Creatinine          737780\n",
       "Bilirubin_direct    789087\n",
       "Glucose             693611\n",
       "Lactate             763126\n",
       "Magnesium           728786\n",
       "Phosphate           750371\n",
       "Potassium           704431\n",
       "Bilirubin_total     780575\n",
       "TroponinI           789304\n",
       "Hct                 697209\n",
       "Hgb                 720446\n",
       "PTT                 751963\n",
       "WBC                 730919\n",
       "Fibrinogen          784239\n",
       "Platelets           738768\n",
       "Age                      0\n",
       "Gender                   0\n",
       "SepsisLabel              0\n",
       "SubjectID                0\n",
       "dtype: int64"
      ]
     },
     "execution_count": 11,
     "metadata": {},
     "output_type": "execute_result"
    }
   ],
   "source": [
    "# missing values in A\n",
    "A_original.isna().sum()"
   ]
  },
  {
   "cell_type": "code",
   "execution_count": 13,
   "id": "3375ec8d-4ec6-43d6-a6b0-66b926758651",
   "metadata": {},
   "outputs": [
    {
     "data": {
      "text/plain": [
       "HR                   92212\n",
       "O2Sat               107659\n",
       "Temp                503689\n",
       "SBP                 106066\n",
       "MAP                 112414\n",
       "DBP                 106259\n",
       "Resp                161079\n",
       "EtCO2               704383\n",
       "BaseExcess          760255\n",
       "HCO3                760608\n",
       "FiO2                744809\n",
       "pH                  745061\n",
       "PaCO2               745006\n",
       "SaO2                747618\n",
       "AST                 748656\n",
       "BUN                 719926\n",
       "Alkalinephos        748610\n",
       "Calcium             710005\n",
       "Chloride            757330\n",
       "Creatinine          719889\n",
       "Bilirubin_direct    760211\n",
       "Glucose             593154\n",
       "Lactate             747716\n",
       "Magnesium           725547\n",
       "Phosphate           739614\n",
       "Potassium           703328\n",
       "Bilirubin_total     748571\n",
       "TroponinI           748203\n",
       "Hct                 717643\n",
       "Hgb                 717248\n",
       "PTT                 754626\n",
       "WBC                 721919\n",
       "Fibrinogen          757807\n",
       "Platelets           721308\n",
       "Age                      0\n",
       "Gender                   0\n",
       "SepsisLabel              0\n",
       "SubjectID                0\n",
       "dtype: int64"
      ]
     },
     "execution_count": 13,
     "metadata": {},
     "output_type": "execute_result"
    }
   ],
   "source": [
    "# missing values in B\n",
    "B_original.isna().sum()"
   ]
  },
  {
   "cell_type": "markdown",
   "id": "874e5d28-7c41-4c85-8a80-dd0832c1ae1f",
   "metadata": {
    "tags": []
   },
   "source": [
    "## Cleaning Training Dataset A and Testing Dataset B\n",
    "First, We removed hospital-level variables `Unit1`, `Unit2`, `HospAdmTime`, and `ICULOS` since the information in these columns is not related to individual-level prediction. Another column of `ETCO2` was also dropped in both dataset A and dataset B because it only contains `NA` value.  \n",
    "\n",
    "Then, we spent time in the imputation of missing values. We assumed that each patient has unique characteristic and every value has ongoing time specified. Thus, primarily, the `NAs` were imputed based on the last or next records of the missing values, meaning that if there is a value in previous or next time period, then impute with the previous or the next one. Otherwise, we replaced the mean for continuous variables and mode for categorical variables if the values are missing. \n",
    "\n",
    "Finally, considering the great benefit of early detection of Sepsis, we extracted the initial situation of patients, i.e. using the laboratory results and demographical features of the first time when patients visited hospitals. This gave us 20,336 records in training set and 20,000 data in test set. Notice that the final datasets are imbalanced: percentages of $0$ (do not develop sepsis) in the `SepsisLabel` in datasets A and B are around 91% and 94%, respectively. They will be balanced before modeling process using the SMOTE method later. "
   ]
  },
  {
   "cell_type": "code",
   "execution_count": 14,
   "id": "627d259e-d518-423f-ae45-64f7310efa2f",
   "metadata": {},
   "outputs": [],
   "source": [
    "## drop EtCO2 since all is missing\n",
    "A_original = A_original.drop(columns = ['EtCO2'])\n",
    "B_original = B_original.drop(columns = ['EtCO2'])"
   ]
  },
  {
   "cell_type": "code",
   "execution_count": 15,
   "id": "48877f61-1735-4a05-8f51-7de3021b5d58",
   "metadata": {},
   "outputs": [],
   "source": [
    "## dataset A\n",
    "# setpath = '/Users/xiaoy/OneDrive/Desktop/finalproj_STA663/training_setA/training_original'\n",
    "# subjectid = sorted(os.listdir(setpath))\n",
    "# vars = ['HR','O2Sat','Temp','SBP','MAP','DBP','Resp','EtCO2','BaseExcess','HCO3','FiO2','pH','PaCO2','SaO2',\n",
    "#  'AST','BUN','Alkalinephos','Calcium','Chloride','Creatinine','Bilirubin_direct','Glucose','Lactate','Magnesium',\n",
    "#  'Phosphate','Potassium','Bilirubin_total','TroponinI','Hct','Hgb','PTT','WBC','Fibrinogen','Platelets','Age','Gender']"
   ]
  },
  {
   "cell_type": "code",
   "execution_count": 16,
   "id": "45a10f40-6691-4ef4-8ec7-db7c4d016502",
   "metadata": {},
   "outputs": [],
   "source": [
    "## below can't be runned in the future, comment them but doesn't mean useless\n",
    "#  for sid in subjectid:\n",
    "#         df1 = pd.read_csv(setpath + '/' + sid, sep = \"|\")\n",
    "#         df1 = df1.drop(['Unit1', 'Unit2', 'HospAdmTime','ICULOS'], axis=1)\n",
    "#         if(len(df1[df1['SepsisLabel'] == 1]) > 0 ):\n",
    "#             index_a = list(map(lambda i : i == 1, df1['SepsisLabel'])).index(True)\n",
    "#             df2 = pd.DataFrame(df1.iloc[0:index_a + 1])\n",
    "#             df = pd.DataFrame(df1.iloc[index_a ]).T\n",
    "            \n",
    "#             for vname in vars:\n",
    "#                 if(df[vname].isna().sum() == 1):\n",
    "#                     if(df2[vname].isna().sum() < len(df2[vname])):\n",
    "#                         index_b = np.where(~np.isnan(df2[vname]))[0]\n",
    "#                         index_b = index_b[-1]\n",
    "#                         df[vname] = df[vname].replace(np.nan, df1[vname][index_b])\n",
    "#                     else:\n",
    "#                         if(df1[vname].isna().sum() < len(df1[vname])):\n",
    "#                             index_b = np.where(~np.isnan(df1[vname]))[0]\n",
    "#                             index_b = index_b[0]\n",
    "#                             df[vname] = df[vname].replace(np.nan, df1[vname][index_b])\n",
    "#         else:\n",
    "#             df = pd.DataFrame(df1.iloc[0]).T\n",
    "#             for vname in vars:\n",
    "#                 if(df[vname].isna().sum() == 1 and (df1[vname].isna().sum() < len(df1[vname]))):\n",
    "#                     index_b = np.where(~np.isnan(df1[vname]))[0]\n",
    "#                     index_b = index_b[0]\n",
    "#                     df[vname] = df[vname].replace(np.nan, df1[vname][index_b])\n",
    "\n",
    "#         df['SubjectID'] = sid[0:7]\n",
    "#         if(sid == subjectid[0]):\n",
    "#             df.to_csv('/Users/xiaoy/OneDrive/Desktop/finalproj_STA663/training_setA/training_clean1.psv', mode='a', index=False, header=True)\n",
    "#         else:\n",
    "#             df.to_csv('/Users/xiaoy/OneDrive/Desktop/finalproj_STA663/training_setA/training_clean1.psv', mode='a', index=False, header=False)"
   ]
  },
  {
   "cell_type": "code",
   "execution_count": 6,
   "id": "1a396123-1b6b-4743-8512-8781a2916488",
   "metadata": {},
   "outputs": [
    {
     "data": {
      "text/html": [
       "<div>\n",
       "<style scoped>\n",
       "    .dataframe tbody tr th:only-of-type {\n",
       "        vertical-align: middle;\n",
       "    }\n",
       "\n",
       "    .dataframe tbody tr th {\n",
       "        vertical-align: top;\n",
       "    }\n",
       "\n",
       "    .dataframe thead th {\n",
       "        text-align: right;\n",
       "    }\n",
       "</style>\n",
       "<table border=\"1\" class=\"dataframe\">\n",
       "  <thead>\n",
       "    <tr style=\"text-align: right;\">\n",
       "      <th></th>\n",
       "      <th>HR</th>\n",
       "      <th>O2Sat</th>\n",
       "      <th>Temp</th>\n",
       "      <th>SBP</th>\n",
       "      <th>MAP</th>\n",
       "      <th>DBP</th>\n",
       "      <th>Resp</th>\n",
       "      <th>EtCO2</th>\n",
       "      <th>BaseExcess</th>\n",
       "      <th>HCO3</th>\n",
       "      <th>...</th>\n",
       "      <th>Hct</th>\n",
       "      <th>Hgb</th>\n",
       "      <th>PTT</th>\n",
       "      <th>WBC</th>\n",
       "      <th>Fibrinogen</th>\n",
       "      <th>Platelets</th>\n",
       "      <th>Age</th>\n",
       "      <th>Gender</th>\n",
       "      <th>SepsisLabel</th>\n",
       "      <th>SubjectID</th>\n",
       "    </tr>\n",
       "  </thead>\n",
       "  <tbody>\n",
       "    <tr>\n",
       "      <th>0</th>\n",
       "      <td>97.0</td>\n",
       "      <td>95.0</td>\n",
       "      <td>36.11</td>\n",
       "      <td>98.0</td>\n",
       "      <td>75.33</td>\n",
       "      <td>NaN</td>\n",
       "      <td>19.0</td>\n",
       "      <td>NaN</td>\n",
       "      <td>24.0</td>\n",
       "      <td>45.0</td>\n",
       "      <td>...</td>\n",
       "      <td>37.2</td>\n",
       "      <td>12.5</td>\n",
       "      <td>NaN</td>\n",
       "      <td>5.7</td>\n",
       "      <td>NaN</td>\n",
       "      <td>317.0</td>\n",
       "      <td>83.14</td>\n",
       "      <td>0.0</td>\n",
       "      <td>0.0</td>\n",
       "      <td>p000001</td>\n",
       "    </tr>\n",
       "    <tr>\n",
       "      <th>1</th>\n",
       "      <td>61.0</td>\n",
       "      <td>99.0</td>\n",
       "      <td>36.44</td>\n",
       "      <td>124.0</td>\n",
       "      <td>65.00</td>\n",
       "      <td>43.0</td>\n",
       "      <td>17.5</td>\n",
       "      <td>NaN</td>\n",
       "      <td>NaN</td>\n",
       "      <td>22.0</td>\n",
       "      <td>...</td>\n",
       "      <td>27.8</td>\n",
       "      <td>9.7</td>\n",
       "      <td>NaN</td>\n",
       "      <td>11.0</td>\n",
       "      <td>NaN</td>\n",
       "      <td>158.0</td>\n",
       "      <td>75.91</td>\n",
       "      <td>0.0</td>\n",
       "      <td>0.0</td>\n",
       "      <td>p000002</td>\n",
       "    </tr>\n",
       "    <tr>\n",
       "      <th>2</th>\n",
       "      <td>87.0</td>\n",
       "      <td>96.0</td>\n",
       "      <td>37.11</td>\n",
       "      <td>131.0</td>\n",
       "      <td>70.33</td>\n",
       "      <td>50.0</td>\n",
       "      <td>29.0</td>\n",
       "      <td>NaN</td>\n",
       "      <td>8.0</td>\n",
       "      <td>32.0</td>\n",
       "      <td>...</td>\n",
       "      <td>26.9</td>\n",
       "      <td>9.1</td>\n",
       "      <td>30.5</td>\n",
       "      <td>10.0</td>\n",
       "      <td>NaN</td>\n",
       "      <td>488.0</td>\n",
       "      <td>45.82</td>\n",
       "      <td>0.0</td>\n",
       "      <td>0.0</td>\n",
       "      <td>p000003</td>\n",
       "    </tr>\n",
       "    <tr>\n",
       "      <th>3</th>\n",
       "      <td>103.5</td>\n",
       "      <td>97.0</td>\n",
       "      <td>36.78</td>\n",
       "      <td>107.5</td>\n",
       "      <td>70.50</td>\n",
       "      <td>52.0</td>\n",
       "      <td>18.0</td>\n",
       "      <td>NaN</td>\n",
       "      <td>0.0</td>\n",
       "      <td>22.0</td>\n",
       "      <td>...</td>\n",
       "      <td>27.6</td>\n",
       "      <td>8.3</td>\n",
       "      <td>21.3</td>\n",
       "      <td>7.6</td>\n",
       "      <td>NaN</td>\n",
       "      <td>220.0</td>\n",
       "      <td>65.71</td>\n",
       "      <td>0.0</td>\n",
       "      <td>0.0</td>\n",
       "      <td>p000004</td>\n",
       "    </tr>\n",
       "    <tr>\n",
       "      <th>4</th>\n",
       "      <td>84.0</td>\n",
       "      <td>97.5</td>\n",
       "      <td>37.28</td>\n",
       "      <td>140.5</td>\n",
       "      <td>94.50</td>\n",
       "      <td>NaN</td>\n",
       "      <td>17.5</td>\n",
       "      <td>NaN</td>\n",
       "      <td>NaN</td>\n",
       "      <td>24.0</td>\n",
       "      <td>...</td>\n",
       "      <td>41.0</td>\n",
       "      <td>14.2</td>\n",
       "      <td>29.0</td>\n",
       "      <td>8.1</td>\n",
       "      <td>NaN</td>\n",
       "      <td>273.0</td>\n",
       "      <td>28.09</td>\n",
       "      <td>1.0</td>\n",
       "      <td>0.0</td>\n",
       "      <td>p000005</td>\n",
       "    </tr>\n",
       "  </tbody>\n",
       "</table>\n",
       "<p>5 rows × 38 columns</p>\n",
       "</div>"
      ],
      "text/plain": [
       "      HR  O2Sat   Temp    SBP    MAP   DBP  Resp  EtCO2  BaseExcess  HCO3  \\\n",
       "0   97.0   95.0  36.11   98.0  75.33   NaN  19.0    NaN        24.0  45.0   \n",
       "1   61.0   99.0  36.44  124.0  65.00  43.0  17.5    NaN         NaN  22.0   \n",
       "2   87.0   96.0  37.11  131.0  70.33  50.0  29.0    NaN         8.0  32.0   \n",
       "3  103.5   97.0  36.78  107.5  70.50  52.0  18.0    NaN         0.0  22.0   \n",
       "4   84.0   97.5  37.28  140.5  94.50   NaN  17.5    NaN         NaN  24.0   \n",
       "\n",
       "   ...   Hct   Hgb   PTT   WBC  Fibrinogen  Platelets    Age  Gender  \\\n",
       "0  ...  37.2  12.5   NaN   5.7         NaN      317.0  83.14     0.0   \n",
       "1  ...  27.8   9.7   NaN  11.0         NaN      158.0  75.91     0.0   \n",
       "2  ...  26.9   9.1  30.5  10.0         NaN      488.0  45.82     0.0   \n",
       "3  ...  27.6   8.3  21.3   7.6         NaN      220.0  65.71     0.0   \n",
       "4  ...  41.0  14.2  29.0   8.1         NaN      273.0  28.09     1.0   \n",
       "\n",
       "   SepsisLabel  SubjectID  \n",
       "0          0.0    p000001  \n",
       "1          0.0    p000002  \n",
       "2          0.0    p000003  \n",
       "3          0.0    p000004  \n",
       "4          0.0    p000005  \n",
       "\n",
       "[5 rows x 38 columns]"
      ]
     },
     "execution_count": 6,
     "metadata": {},
     "output_type": "execute_result"
    }
   ],
   "source": [
    "df_preA = pd.read_csv(\"dataset/training_setA/training_clean1.psv\",sep = \",\")\n",
    "df_preA.head()"
   ]
  },
  {
   "cell_type": "code",
   "execution_count": null,
   "id": "4ffffdde-69fc-4c94-af38-bde517dd40bb",
   "metadata": {},
   "outputs": [],
   "source": [
    "## dataset B\n",
    "# setpathB = '/Users/xiaoy/OneDrive/Desktop/finalproj_STA663/training_setB/testing_original'\n",
    "# subjectidB = sorted(os.listdir(setpathB))"
   ]
  },
  {
   "cell_type": "code",
   "execution_count": 19,
   "id": "479ff407-f8bb-4218-a7d8-10e546e7a7e6",
   "metadata": {},
   "outputs": [],
   "source": [
    "# for sid in subjectidB:\n",
    "#         df1 = pd.read_csv(setpathB + '/' + sid, sep = \"|\")\n",
    "#         df1 = df1.drop(['Unit1', 'Unit2', 'HospAdmTime','ICULOS'], axis=1)\n",
    "#         if(len(df1[df1['SepsisLabel'] == 1]) > 0 ):\n",
    "#             index_a = list(map(lambda i : i == 1, df1['SepsisLabel'])).index(True)\n",
    "#             df2 = pd.DataFrame(df1.iloc[0:index_a + 1])\n",
    "#             df = pd.DataFrame(df1.iloc[index_a ]).T\n",
    "#             for vname in vars:\n",
    "#                 if(df[vname].isna().sum() == 1):\n",
    "#                     if(df2[vname].isna().sum() < len(df2[vname])):\n",
    "#                         index_b = np.where(~np.isnan(df2[vname]))[0]\n",
    "#                         index_b = index_b[-1]\n",
    "#                         df[vname] = df[vname].replace(np.nan, df1[vname][index_b])\n",
    "#                     else:\n",
    "#                         if(df1[vname].isna().sum() < len(df1[vname])):\n",
    "#                             index_b = np.where(~np.isnan(df1[vname]))[0]\n",
    "#                             index_b = index_b[0]\n",
    "#                             df[vname] = df[vname].replace(np.nan, df1[vname][index_b])\n",
    "#         else:\n",
    "#             df = pd.DataFrame(df1.iloc[0]).T\n",
    "#             for vname in vars:\n",
    "#                 if(df[vname].isna().sum() == 1 and (df1[vname].isna().sum() < len(df1[vname]))):\n",
    "#                     index_b = np.where(~np.isnan(df1[vname]))[0]\n",
    "#                     index_b = index_b[0]\n",
    "#                     df[vname] = df[vname].replace(np.nan, df1[vname][index_b])\n",
    "\n",
    "#         df['SubjectID'] = sid[0:7]\n",
    "#         if(sid == subjectidB[0]):\n",
    "#             df.to_csv('/Users/xiaoy/OneDrive/Desktop/finalproj_STA663/training_setB/testing_clean1.psv', mode='a', index=False, header=True)\n",
    "#         else:\n",
    "#             df.to_csv('/Users/xiaoy/OneDrive/Desktop/finalproj_STA663/training_setB/testing_clean1.psv', mode='a', index=False, header=False)"
   ]
  },
  {
   "cell_type": "code",
   "execution_count": 7,
   "id": "74b0b0bd-33a9-4448-9dfb-87a697e5f682",
   "metadata": {},
   "outputs": [
    {
     "data": {
      "text/html": [
       "<div>\n",
       "<style scoped>\n",
       "    .dataframe tbody tr th:only-of-type {\n",
       "        vertical-align: middle;\n",
       "    }\n",
       "\n",
       "    .dataframe tbody tr th {\n",
       "        vertical-align: top;\n",
       "    }\n",
       "\n",
       "    .dataframe thead th {\n",
       "        text-align: right;\n",
       "    }\n",
       "</style>\n",
       "<table border=\"1\" class=\"dataframe\">\n",
       "  <thead>\n",
       "    <tr style=\"text-align: right;\">\n",
       "      <th></th>\n",
       "      <th>HR</th>\n",
       "      <th>O2Sat</th>\n",
       "      <th>Temp</th>\n",
       "      <th>SBP</th>\n",
       "      <th>MAP</th>\n",
       "      <th>DBP</th>\n",
       "      <th>Resp</th>\n",
       "      <th>EtCO2</th>\n",
       "      <th>BaseExcess</th>\n",
       "      <th>HCO3</th>\n",
       "      <th>...</th>\n",
       "      <th>Hct</th>\n",
       "      <th>Hgb</th>\n",
       "      <th>PTT</th>\n",
       "      <th>WBC</th>\n",
       "      <th>Fibrinogen</th>\n",
       "      <th>Platelets</th>\n",
       "      <th>Age</th>\n",
       "      <th>Gender</th>\n",
       "      <th>SepsisLabel</th>\n",
       "      <th>SubjectID</th>\n",
       "    </tr>\n",
       "  </thead>\n",
       "  <tbody>\n",
       "    <tr>\n",
       "      <th>0</th>\n",
       "      <td>93.0</td>\n",
       "      <td>92.5</td>\n",
       "      <td>36.5</td>\n",
       "      <td>110.0</td>\n",
       "      <td>76.0</td>\n",
       "      <td>56.0</td>\n",
       "      <td>22.0</td>\n",
       "      <td>NaN</td>\n",
       "      <td>NaN</td>\n",
       "      <td>NaN</td>\n",
       "      <td>...</td>\n",
       "      <td>35.3</td>\n",
       "      <td>11.3</td>\n",
       "      <td>NaN</td>\n",
       "      <td>10.8</td>\n",
       "      <td>NaN</td>\n",
       "      <td>170.0</td>\n",
       "      <td>73.0</td>\n",
       "      <td>1.0</td>\n",
       "      <td>0.0</td>\n",
       "      <td>p100001</td>\n",
       "    </tr>\n",
       "    <tr>\n",
       "      <th>1</th>\n",
       "      <td>56.5</td>\n",
       "      <td>100.0</td>\n",
       "      <td>35.2</td>\n",
       "      <td>129.0</td>\n",
       "      <td>75.0</td>\n",
       "      <td>52.5</td>\n",
       "      <td>23.0</td>\n",
       "      <td>35.0</td>\n",
       "      <td>NaN</td>\n",
       "      <td>NaN</td>\n",
       "      <td>...</td>\n",
       "      <td>31.4</td>\n",
       "      <td>11.1</td>\n",
       "      <td>NaN</td>\n",
       "      <td>13.2</td>\n",
       "      <td>NaN</td>\n",
       "      <td>85.0</td>\n",
       "      <td>83.0</td>\n",
       "      <td>1.0</td>\n",
       "      <td>0.0</td>\n",
       "      <td>p100002</td>\n",
       "    </tr>\n",
       "    <tr>\n",
       "      <th>2</th>\n",
       "      <td>130.0</td>\n",
       "      <td>96.0</td>\n",
       "      <td>36.6</td>\n",
       "      <td>129.0</td>\n",
       "      <td>87.0</td>\n",
       "      <td>72.0</td>\n",
       "      <td>24.0</td>\n",
       "      <td>NaN</td>\n",
       "      <td>NaN</td>\n",
       "      <td>NaN</td>\n",
       "      <td>...</td>\n",
       "      <td>32.3</td>\n",
       "      <td>10.8</td>\n",
       "      <td>NaN</td>\n",
       "      <td>15.5</td>\n",
       "      <td>NaN</td>\n",
       "      <td>337.0</td>\n",
       "      <td>48.0</td>\n",
       "      <td>1.0</td>\n",
       "      <td>0.0</td>\n",
       "      <td>p100003</td>\n",
       "    </tr>\n",
       "    <tr>\n",
       "      <th>3</th>\n",
       "      <td>65.0</td>\n",
       "      <td>100.0</td>\n",
       "      <td>36.7</td>\n",
       "      <td>140.0</td>\n",
       "      <td>84.0</td>\n",
       "      <td>65.0</td>\n",
       "      <td>14.0</td>\n",
       "      <td>NaN</td>\n",
       "      <td>NaN</td>\n",
       "      <td>NaN</td>\n",
       "      <td>...</td>\n",
       "      <td>NaN</td>\n",
       "      <td>NaN</td>\n",
       "      <td>NaN</td>\n",
       "      <td>NaN</td>\n",
       "      <td>NaN</td>\n",
       "      <td>NaN</td>\n",
       "      <td>67.0</td>\n",
       "      <td>1.0</td>\n",
       "      <td>0.0</td>\n",
       "      <td>p100004</td>\n",
       "    </tr>\n",
       "    <tr>\n",
       "      <th>4</th>\n",
       "      <td>55.0</td>\n",
       "      <td>100.0</td>\n",
       "      <td>36.1</td>\n",
       "      <td>131.0</td>\n",
       "      <td>68.0</td>\n",
       "      <td>50.5</td>\n",
       "      <td>24.0</td>\n",
       "      <td>NaN</td>\n",
       "      <td>NaN</td>\n",
       "      <td>NaN</td>\n",
       "      <td>...</td>\n",
       "      <td>24.7</td>\n",
       "      <td>8.0</td>\n",
       "      <td>32.3</td>\n",
       "      <td>10.6</td>\n",
       "      <td>NaN</td>\n",
       "      <td>421.0</td>\n",
       "      <td>50.0</td>\n",
       "      <td>1.0</td>\n",
       "      <td>0.0</td>\n",
       "      <td>p100005</td>\n",
       "    </tr>\n",
       "  </tbody>\n",
       "</table>\n",
       "<p>5 rows × 38 columns</p>\n",
       "</div>"
      ],
      "text/plain": [
       "      HR  O2Sat  Temp    SBP   MAP   DBP  Resp  EtCO2  BaseExcess  HCO3  ...  \\\n",
       "0   93.0   92.5  36.5  110.0  76.0  56.0  22.0    NaN         NaN   NaN  ...   \n",
       "1   56.5  100.0  35.2  129.0  75.0  52.5  23.0   35.0         NaN   NaN  ...   \n",
       "2  130.0   96.0  36.6  129.0  87.0  72.0  24.0    NaN         NaN   NaN  ...   \n",
       "3   65.0  100.0  36.7  140.0  84.0  65.0  14.0    NaN         NaN   NaN  ...   \n",
       "4   55.0  100.0  36.1  131.0  68.0  50.5  24.0    NaN         NaN   NaN  ...   \n",
       "\n",
       "    Hct   Hgb   PTT   WBC  Fibrinogen  Platelets   Age  Gender  SepsisLabel  \\\n",
       "0  35.3  11.3   NaN  10.8         NaN      170.0  73.0     1.0          0.0   \n",
       "1  31.4  11.1   NaN  13.2         NaN       85.0  83.0     1.0          0.0   \n",
       "2  32.3  10.8   NaN  15.5         NaN      337.0  48.0     1.0          0.0   \n",
       "3   NaN   NaN   NaN   NaN         NaN        NaN  67.0     1.0          0.0   \n",
       "4  24.7   8.0  32.3  10.6         NaN      421.0  50.0     1.0          0.0   \n",
       "\n",
       "   SubjectID  \n",
       "0    p100001  \n",
       "1    p100002  \n",
       "2    p100003  \n",
       "3    p100004  \n",
       "4    p100005  \n",
       "\n",
       "[5 rows x 38 columns]"
      ]
     },
     "execution_count": 7,
     "metadata": {},
     "output_type": "execute_result"
    }
   ],
   "source": [
    "df_preB = pd.read_csv(\"dataset/training_setB/testing_clean1.psv\",sep = \",\")\n",
    "df_preB.head()"
   ]
  },
  {
   "cell_type": "markdown",
   "id": "27721d69-123c-4c16-b22b-be71d01273f3",
   "metadata": {},
   "source": [
    "#### imputing NA values"
   ]
  },
  {
   "cell_type": "code",
   "execution_count": 8,
   "id": "918b8fb0-24b1-4463-aeeb-fd5f6ca524e7",
   "metadata": {},
   "outputs": [],
   "source": [
    "## drop EtCO2 since all is missing\n",
    "df_preA = df_preA.drop(columns = ['EtCO2'])"
   ]
  },
  {
   "cell_type": "code",
   "execution_count": 10,
   "id": "a61ee2d2-7858-4935-ae56-4391f7b93d9c",
   "metadata": {},
   "outputs": [
    {
     "data": {
      "text/html": [
       "<div>\n",
       "<style scoped>\n",
       "    .dataframe tbody tr th:only-of-type {\n",
       "        vertical-align: middle;\n",
       "    }\n",
       "\n",
       "    .dataframe tbody tr th {\n",
       "        vertical-align: top;\n",
       "    }\n",
       "\n",
       "    .dataframe thead th {\n",
       "        text-align: right;\n",
       "    }\n",
       "</style>\n",
       "<table border=\"1\" class=\"dataframe\">\n",
       "  <thead>\n",
       "    <tr style=\"text-align: right;\">\n",
       "      <th></th>\n",
       "      <th>SubjectID</th>\n",
       "      <th>HR</th>\n",
       "      <th>O2Sat</th>\n",
       "      <th>Temp</th>\n",
       "      <th>SBP</th>\n",
       "      <th>MAP</th>\n",
       "      <th>DBP</th>\n",
       "      <th>Resp</th>\n",
       "      <th>BaseExcess</th>\n",
       "      <th>HCO3</th>\n",
       "      <th>...</th>\n",
       "      <th>TroponinI</th>\n",
       "      <th>Hct</th>\n",
       "      <th>Hgb</th>\n",
       "      <th>PTT</th>\n",
       "      <th>WBC</th>\n",
       "      <th>Fibrinogen</th>\n",
       "      <th>Platelets</th>\n",
       "      <th>Age</th>\n",
       "      <th>Gender</th>\n",
       "      <th>SepsisLabel</th>\n",
       "    </tr>\n",
       "  </thead>\n",
       "  <tbody>\n",
       "    <tr>\n",
       "      <th>0</th>\n",
       "      <td>p000001</td>\n",
       "      <td>97.0</td>\n",
       "      <td>95.0</td>\n",
       "      <td>36.11</td>\n",
       "      <td>98.0</td>\n",
       "      <td>75.33</td>\n",
       "      <td>62.215276</td>\n",
       "      <td>19.0</td>\n",
       "      <td>24.000000</td>\n",
       "      <td>45.0</td>\n",
       "      <td>...</td>\n",
       "      <td>9.237423</td>\n",
       "      <td>37.2</td>\n",
       "      <td>12.5</td>\n",
       "      <td>37.300321</td>\n",
       "      <td>5.7</td>\n",
       "      <td>305.387222</td>\n",
       "      <td>317.0</td>\n",
       "      <td>83.14</td>\n",
       "      <td>0.0</td>\n",
       "      <td>0.0</td>\n",
       "    </tr>\n",
       "    <tr>\n",
       "      <th>1</th>\n",
       "      <td>p000002</td>\n",
       "      <td>61.0</td>\n",
       "      <td>99.0</td>\n",
       "      <td>36.44</td>\n",
       "      <td>124.0</td>\n",
       "      <td>65.00</td>\n",
       "      <td>43.000000</td>\n",
       "      <td>17.5</td>\n",
       "      <td>-0.462911</td>\n",
       "      <td>22.0</td>\n",
       "      <td>...</td>\n",
       "      <td>9.237423</td>\n",
       "      <td>27.8</td>\n",
       "      <td>9.7</td>\n",
       "      <td>37.300321</td>\n",
       "      <td>11.0</td>\n",
       "      <td>305.387222</td>\n",
       "      <td>158.0</td>\n",
       "      <td>75.91</td>\n",
       "      <td>0.0</td>\n",
       "      <td>0.0</td>\n",
       "    </tr>\n",
       "    <tr>\n",
       "      <th>2</th>\n",
       "      <td>p000003</td>\n",
       "      <td>87.0</td>\n",
       "      <td>96.0</td>\n",
       "      <td>37.11</td>\n",
       "      <td>131.0</td>\n",
       "      <td>70.33</td>\n",
       "      <td>50.000000</td>\n",
       "      <td>29.0</td>\n",
       "      <td>8.000000</td>\n",
       "      <td>32.0</td>\n",
       "      <td>...</td>\n",
       "      <td>9.237423</td>\n",
       "      <td>26.9</td>\n",
       "      <td>9.1</td>\n",
       "      <td>30.500000</td>\n",
       "      <td>10.0</td>\n",
       "      <td>305.387222</td>\n",
       "      <td>488.0</td>\n",
       "      <td>45.82</td>\n",
       "      <td>0.0</td>\n",
       "      <td>0.0</td>\n",
       "    </tr>\n",
       "    <tr>\n",
       "      <th>3</th>\n",
       "      <td>p000004</td>\n",
       "      <td>103.5</td>\n",
       "      <td>97.0</td>\n",
       "      <td>36.78</td>\n",
       "      <td>107.5</td>\n",
       "      <td>70.50</td>\n",
       "      <td>52.000000</td>\n",
       "      <td>18.0</td>\n",
       "      <td>0.000000</td>\n",
       "      <td>22.0</td>\n",
       "      <td>...</td>\n",
       "      <td>9.237423</td>\n",
       "      <td>27.6</td>\n",
       "      <td>8.3</td>\n",
       "      <td>21.300000</td>\n",
       "      <td>7.6</td>\n",
       "      <td>305.387222</td>\n",
       "      <td>220.0</td>\n",
       "      <td>65.71</td>\n",
       "      <td>0.0</td>\n",
       "      <td>0.0</td>\n",
       "    </tr>\n",
       "    <tr>\n",
       "      <th>4</th>\n",
       "      <td>p000005</td>\n",
       "      <td>84.0</td>\n",
       "      <td>97.5</td>\n",
       "      <td>37.28</td>\n",
       "      <td>140.5</td>\n",
       "      <td>94.50</td>\n",
       "      <td>62.215276</td>\n",
       "      <td>17.5</td>\n",
       "      <td>-0.462911</td>\n",
       "      <td>24.0</td>\n",
       "      <td>...</td>\n",
       "      <td>9.237423</td>\n",
       "      <td>41.0</td>\n",
       "      <td>14.2</td>\n",
       "      <td>29.000000</td>\n",
       "      <td>8.1</td>\n",
       "      <td>305.387222</td>\n",
       "      <td>273.0</td>\n",
       "      <td>28.09</td>\n",
       "      <td>1.0</td>\n",
       "      <td>0.0</td>\n",
       "    </tr>\n",
       "  </tbody>\n",
       "</table>\n",
       "<p>5 rows × 37 columns</p>\n",
       "</div>"
      ],
      "text/plain": [
       "  SubjectID     HR  O2Sat   Temp    SBP    MAP        DBP  Resp  BaseExcess  \\\n",
       "0   p000001   97.0   95.0  36.11   98.0  75.33  62.215276  19.0   24.000000   \n",
       "1   p000002   61.0   99.0  36.44  124.0  65.00  43.000000  17.5   -0.462911   \n",
       "2   p000003   87.0   96.0  37.11  131.0  70.33  50.000000  29.0    8.000000   \n",
       "3   p000004  103.5   97.0  36.78  107.5  70.50  52.000000  18.0    0.000000   \n",
       "4   p000005   84.0   97.5  37.28  140.5  94.50  62.215276  17.5   -0.462911   \n",
       "\n",
       "   HCO3  ...  TroponinI   Hct   Hgb        PTT   WBC  Fibrinogen  Platelets  \\\n",
       "0  45.0  ...   9.237423  37.2  12.5  37.300321   5.7  305.387222      317.0   \n",
       "1  22.0  ...   9.237423  27.8   9.7  37.300321  11.0  305.387222      158.0   \n",
       "2  32.0  ...   9.237423  26.9   9.1  30.500000  10.0  305.387222      488.0   \n",
       "3  22.0  ...   9.237423  27.6   8.3  21.300000   7.6  305.387222      220.0   \n",
       "4  24.0  ...   9.237423  41.0  14.2  29.000000   8.1  305.387222      273.0   \n",
       "\n",
       "     Age  Gender  SepsisLabel  \n",
       "0  83.14     0.0          0.0  \n",
       "1  75.91     0.0          0.0  \n",
       "2  45.82     0.0          0.0  \n",
       "3  65.71     0.0          0.0  \n",
       "4  28.09     1.0          0.0  \n",
       "\n",
       "[5 rows x 37 columns]"
      ]
     },
     "execution_count": 10,
     "metadata": {},
     "output_type": "execute_result"
    }
   ],
   "source": [
    "## Impute rest of Missing Value with mean (continuous) and mode (categorical)\n",
    "df_preA_noID = df_preA.drop(columns = ['SubjectID'])\n",
    "miss_mean_imputer = SimpleImputer(missing_values=np.nan, strategy='mean')\n",
    "miss_mean_imputer = miss_mean_imputer.fit(df_preA_noID)\n",
    "imputed_df_preA = miss_mean_imputer.transform(df_preA_noID)\n",
    "imputed_df_preA = pd.DataFrame(data = imputed_df_preA, columns = df_preA_noID.columns)\n",
    "df_finalA = pd.concat([df_preA['SubjectID'], imputed_df_preA], axis = 1)\n",
    "df_finalA.head()"
   ]
  },
  {
   "cell_type": "code",
   "execution_count": 11,
   "id": "caf38276-82de-45fc-8453-a8c25f0b7b6e",
   "metadata": {},
   "outputs": [
    {
     "data": {
      "text/plain": [
       "0.911978756884343"
      ]
     },
     "execution_count": 11,
     "metadata": {},
     "output_type": "execute_result"
    }
   ],
   "source": [
    "## the percentage of label as 0 in training A\n",
    "len(df_finalA[df_finalA['SepsisLabel'] == 0])/len(df_finalA)"
   ]
  },
  {
   "cell_type": "code",
   "execution_count": 12,
   "id": "75e9a430-f218-48fc-aa3b-9b580ded9c00",
   "metadata": {},
   "outputs": [],
   "source": [
    "## drop EtCO2 since all is missing\n",
    "df_preB = df_preB.drop(columns = ['EtCO2'])\n",
    "## Impute Missing Value with mean (continuous) and mode (categorical)\n",
    "df_preB_noID = df_preB.drop(columns = ['SubjectID'])\n",
    "miss_mean_imputer = SimpleImputer(missing_values=np.nan, strategy='mean')\n",
    "miss_mean_imputer = miss_mean_imputer.fit(df_preB_noID)\n",
    "imputed_df_preB = miss_mean_imputer.transform(df_preB_noID)\n",
    "imputed_df_preB = pd.DataFrame(data = imputed_df_preB, columns = df_preB_noID.columns)"
   ]
  },
  {
   "cell_type": "code",
   "execution_count": 13,
   "id": "03fb5a00-8d5f-455d-9527-9bd01e69f087",
   "metadata": {},
   "outputs": [
    {
     "data": {
      "text/html": [
       "<div>\n",
       "<style scoped>\n",
       "    .dataframe tbody tr th:only-of-type {\n",
       "        vertical-align: middle;\n",
       "    }\n",
       "\n",
       "    .dataframe tbody tr th {\n",
       "        vertical-align: top;\n",
       "    }\n",
       "\n",
       "    .dataframe thead th {\n",
       "        text-align: right;\n",
       "    }\n",
       "</style>\n",
       "<table border=\"1\" class=\"dataframe\">\n",
       "  <thead>\n",
       "    <tr style=\"text-align: right;\">\n",
       "      <th></th>\n",
       "      <th>SubjectID</th>\n",
       "      <th>HR</th>\n",
       "      <th>O2Sat</th>\n",
       "      <th>Temp</th>\n",
       "      <th>SBP</th>\n",
       "      <th>MAP</th>\n",
       "      <th>DBP</th>\n",
       "      <th>Resp</th>\n",
       "      <th>BaseExcess</th>\n",
       "      <th>HCO3</th>\n",
       "      <th>...</th>\n",
       "      <th>TroponinI</th>\n",
       "      <th>Hct</th>\n",
       "      <th>Hgb</th>\n",
       "      <th>PTT</th>\n",
       "      <th>WBC</th>\n",
       "      <th>Fibrinogen</th>\n",
       "      <th>Platelets</th>\n",
       "      <th>Age</th>\n",
       "      <th>Gender</th>\n",
       "      <th>SepsisLabel</th>\n",
       "    </tr>\n",
       "  </thead>\n",
       "  <tbody>\n",
       "    <tr>\n",
       "      <th>0</th>\n",
       "      <td>p100001</td>\n",
       "      <td>93.0</td>\n",
       "      <td>92.5</td>\n",
       "      <td>36.5</td>\n",
       "      <td>110.0</td>\n",
       "      <td>76.0</td>\n",
       "      <td>56.0</td>\n",
       "      <td>22.0</td>\n",
       "      <td>-1.895609</td>\n",
       "      <td>23.948197</td>\n",
       "      <td>...</td>\n",
       "      <td>5.059726</td>\n",
       "      <td>35.300000</td>\n",
       "      <td>11.300000</td>\n",
       "      <td>40.478854</td>\n",
       "      <td>10.800000</td>\n",
       "      <td>289.458162</td>\n",
       "      <td>170.00000</td>\n",
       "      <td>73.0</td>\n",
       "      <td>1.0</td>\n",
       "      <td>0.0</td>\n",
       "    </tr>\n",
       "    <tr>\n",
       "      <th>1</th>\n",
       "      <td>p100002</td>\n",
       "      <td>56.5</td>\n",
       "      <td>100.0</td>\n",
       "      <td>35.2</td>\n",
       "      <td>129.0</td>\n",
       "      <td>75.0</td>\n",
       "      <td>52.5</td>\n",
       "      <td>23.0</td>\n",
       "      <td>-1.895609</td>\n",
       "      <td>23.948197</td>\n",
       "      <td>...</td>\n",
       "      <td>3.700000</td>\n",
       "      <td>31.400000</td>\n",
       "      <td>11.100000</td>\n",
       "      <td>40.478854</td>\n",
       "      <td>13.200000</td>\n",
       "      <td>289.458162</td>\n",
       "      <td>85.00000</td>\n",
       "      <td>83.0</td>\n",
       "      <td>1.0</td>\n",
       "      <td>0.0</td>\n",
       "    </tr>\n",
       "    <tr>\n",
       "      <th>2</th>\n",
       "      <td>p100003</td>\n",
       "      <td>130.0</td>\n",
       "      <td>96.0</td>\n",
       "      <td>36.6</td>\n",
       "      <td>129.0</td>\n",
       "      <td>87.0</td>\n",
       "      <td>72.0</td>\n",
       "      <td>24.0</td>\n",
       "      <td>-1.895609</td>\n",
       "      <td>23.948197</td>\n",
       "      <td>...</td>\n",
       "      <td>0.720000</td>\n",
       "      <td>32.300000</td>\n",
       "      <td>10.800000</td>\n",
       "      <td>40.478854</td>\n",
       "      <td>15.500000</td>\n",
       "      <td>289.458162</td>\n",
       "      <td>337.00000</td>\n",
       "      <td>48.0</td>\n",
       "      <td>1.0</td>\n",
       "      <td>0.0</td>\n",
       "    </tr>\n",
       "    <tr>\n",
       "      <th>3</th>\n",
       "      <td>p100004</td>\n",
       "      <td>65.0</td>\n",
       "      <td>100.0</td>\n",
       "      <td>36.7</td>\n",
       "      <td>140.0</td>\n",
       "      <td>84.0</td>\n",
       "      <td>65.0</td>\n",
       "      <td>14.0</td>\n",
       "      <td>-1.895609</td>\n",
       "      <td>23.948197</td>\n",
       "      <td>...</td>\n",
       "      <td>5.059726</td>\n",
       "      <td>32.848838</td>\n",
       "      <td>10.789035</td>\n",
       "      <td>40.478854</td>\n",
       "      <td>10.431536</td>\n",
       "      <td>289.458162</td>\n",
       "      <td>204.82405</td>\n",
       "      <td>67.0</td>\n",
       "      <td>1.0</td>\n",
       "      <td>0.0</td>\n",
       "    </tr>\n",
       "    <tr>\n",
       "      <th>4</th>\n",
       "      <td>p100005</td>\n",
       "      <td>55.0</td>\n",
       "      <td>100.0</td>\n",
       "      <td>36.1</td>\n",
       "      <td>131.0</td>\n",
       "      <td>68.0</td>\n",
       "      <td>50.5</td>\n",
       "      <td>24.0</td>\n",
       "      <td>-1.895609</td>\n",
       "      <td>23.948197</td>\n",
       "      <td>...</td>\n",
       "      <td>0.030000</td>\n",
       "      <td>24.700000</td>\n",
       "      <td>8.000000</td>\n",
       "      <td>32.300000</td>\n",
       "      <td>10.600000</td>\n",
       "      <td>289.458162</td>\n",
       "      <td>421.00000</td>\n",
       "      <td>50.0</td>\n",
       "      <td>1.0</td>\n",
       "      <td>0.0</td>\n",
       "    </tr>\n",
       "  </tbody>\n",
       "</table>\n",
       "<p>5 rows × 37 columns</p>\n",
       "</div>"
      ],
      "text/plain": [
       "  SubjectID     HR  O2Sat  Temp    SBP   MAP   DBP  Resp  BaseExcess  \\\n",
       "0   p100001   93.0   92.5  36.5  110.0  76.0  56.0  22.0   -1.895609   \n",
       "1   p100002   56.5  100.0  35.2  129.0  75.0  52.5  23.0   -1.895609   \n",
       "2   p100003  130.0   96.0  36.6  129.0  87.0  72.0  24.0   -1.895609   \n",
       "3   p100004   65.0  100.0  36.7  140.0  84.0  65.0  14.0   -1.895609   \n",
       "4   p100005   55.0  100.0  36.1  131.0  68.0  50.5  24.0   -1.895609   \n",
       "\n",
       "        HCO3  ...  TroponinI        Hct        Hgb        PTT        WBC  \\\n",
       "0  23.948197  ...   5.059726  35.300000  11.300000  40.478854  10.800000   \n",
       "1  23.948197  ...   3.700000  31.400000  11.100000  40.478854  13.200000   \n",
       "2  23.948197  ...   0.720000  32.300000  10.800000  40.478854  15.500000   \n",
       "3  23.948197  ...   5.059726  32.848838  10.789035  40.478854  10.431536   \n",
       "4  23.948197  ...   0.030000  24.700000   8.000000  32.300000  10.600000   \n",
       "\n",
       "   Fibrinogen  Platelets   Age  Gender  SepsisLabel  \n",
       "0  289.458162  170.00000  73.0     1.0          0.0  \n",
       "1  289.458162   85.00000  83.0     1.0          0.0  \n",
       "2  289.458162  337.00000  48.0     1.0          0.0  \n",
       "3  289.458162  204.82405  67.0     1.0          0.0  \n",
       "4  289.458162  421.00000  50.0     1.0          0.0  \n",
       "\n",
       "[5 rows x 37 columns]"
      ]
     },
     "execution_count": 13,
     "metadata": {},
     "output_type": "execute_result"
    }
   ],
   "source": [
    "df_finalB = pd.concat([df_preB['SubjectID'], imputed_df_preB], axis = 1)\n",
    "df_finalB.head()"
   ]
  },
  {
   "cell_type": "code",
   "execution_count": 14,
   "id": "f0d3057f-0f52-4ca5-9a7d-495708a3c584",
   "metadata": {},
   "outputs": [
    {
     "data": {
      "text/plain": [
       "0.9429"
      ]
     },
     "execution_count": 14,
     "metadata": {},
     "output_type": "execute_result"
    }
   ],
   "source": [
    "## the percentage of label as 0\n",
    "len(df_finalB[df_finalB['SepsisLabel'] == 0])/len(df_finalB)"
   ]
  },
  {
   "cell_type": "markdown",
   "id": "ce5a09b1-eeae-4a8b-b0fd-883323cd910c",
   "metadata": {
    "tags": []
   },
   "source": [
    "# EDA "
   ]
  },
  {
   "cell_type": "markdown",
   "id": "c69d458d-6089-4a25-80a4-2a9e6d60c773",
   "metadata": {},
   "source": [
    "#### Visualization: distribution plots for A\n",
    "From the plots below, not all varaibles are normal distributed and the outliers are not obvious in the whole dataset. In this case, we could use normalization to rescale the data. "
   ]
  },
  {
   "cell_type": "code",
   "execution_count": 27,
   "id": "381b9e62-0d16-4852-ba23-68170c0f9578",
   "metadata": {
    "tags": []
   },
   "outputs": [
    {
     "data": {
      "image/png": "[encoded data removed]",
      "text/plain": [
       "<Figure size 864x3456 with 36 Axes>"
      ]
     },
     "metadata": {
      "needs_background": "light"
     },
     "output_type": "display_data"
    }
   ],
   "source": [
    "# plot all histrogram for all varaibles\n",
    "fig, axes = plt.subplots(len(df_finalA.columns) // 3 , 3, figsize = (12,48))\n",
    "\n",
    "i = 1\n",
    "for triaxis in axes:\n",
    "    for axis in triaxis:\n",
    "        df_finalA.hist(column = df_finalA.columns[i], bins = 100, ax=axis)\n",
    "        i = i+1"
   ]
  },
  {
   "cell_type": "markdown",
   "id": "2160874f-0547-480b-b6cc-b30f813201d2",
   "metadata": {},
   "source": [
    "#### Visualization: correlation in A\n",
    "Not high correlated among most of variables "
   ]
  },
  {
   "cell_type": "code",
   "execution_count": 28,
   "id": "4088a7e5-8d75-4d0b-b3d0-8e4788789a01",
   "metadata": {
    "tags": []
   },
   "outputs": [
    {
     "data": {
      "text/plain": [
       "[Text(0.5, 0, 'HR'),\n",
       " Text(1.5, 0, 'O2Sat'),\n",
       " Text(2.5, 0, 'Temp'),\n",
       " Text(3.5, 0, 'SBP'),\n",
       " Text(4.5, 0, 'MAP'),\n",
       " Text(5.5, 0, 'DBP'),\n",
       " Text(6.5, 0, 'Resp'),\n",
       " Text(7.5, 0, 'BaseExcess'),\n",
       " Text(8.5, 0, 'HCO3'),\n",
       " Text(9.5, 0, 'FiO2'),\n",
       " Text(10.5, 0, 'pH'),\n",
       " Text(11.5, 0, 'PaCO2'),\n",
       " Text(12.5, 0, 'SaO2'),\n",
       " Text(13.5, 0, 'AST'),\n",
       " Text(14.5, 0, 'BUN'),\n",
       " Text(15.5, 0, 'Alkalinephos'),\n",
       " Text(16.5, 0, 'Calcium'),\n",
       " Text(17.5, 0, 'Chloride'),\n",
       " Text(18.5, 0, 'Creatinine'),\n",
       " Text(19.5, 0, 'Bilirubin_direct'),\n",
       " Text(20.5, 0, 'Glucose'),\n",
       " Text(21.5, 0, 'Lactate'),\n",
       " Text(22.5, 0, 'Magnesium'),\n",
       " Text(23.5, 0, 'Phosphate'),\n",
       " Text(24.5, 0, 'Potassium'),\n",
       " Text(25.5, 0, 'Bilirubin_total'),\n",
       " Text(26.5, 0, 'TroponinI'),\n",
       " Text(27.5, 0, 'Hct'),\n",
       " Text(28.5, 0, 'Hgb'),\n",
       " Text(29.5, 0, 'PTT'),\n",
       " Text(30.5, 0, 'WBC'),\n",
       " Text(31.5, 0, 'Fibrinogen'),\n",
       " Text(32.5, 0, 'Platelets'),\n",
       " Text(33.5, 0, 'Age'),\n",
       " Text(34.5, 0, 'Gender'),\n",
       " Text(35.5, 0, 'SepsisLabel')]"
      ]
     },
     "execution_count": 28,
     "metadata": {},
     "output_type": "execute_result"
    },
    {
     "data": {
      "image/png": "[encoded data removed]",
      "text/plain": [
       "<Figure size 864x864 with 2 Axes>"
      ]
     },
     "metadata": {
      "needs_background": "light"
     },
     "output_type": "display_data"
    }
   ],
   "source": [
    "fig = plt.figure(figsize=(12,12))\n",
    "corr = df_finalA.corr()\n",
    "ax = sns.heatmap(\n",
    "    corr, \n",
    "    vmin=-1, vmax=1, center=0,\n",
    "    cmap=sns.diverging_palette(20, 220, n=200),\n",
    "    square=True\n",
    ")\n",
    "ax.set_xticklabels(\n",
    "    ax.get_xticklabels(),\n",
    "    rotation=45,\n",
    "    horizontalalignment='right'\n",
    ")"
   ]
  },
  {
   "cell_type": "code",
   "execution_count": 15,
   "id": "300be9c2-8236-4fc0-9dc6-e71a6047eefd",
   "metadata": {},
   "outputs": [],
   "source": [
    "# Scaling\n",
    "scaler = StandardScaler()\n",
    "df_finalA[df_finalA.columns[1:35]] = scaler.fit_transform(df_finalA[df_finalA.columns[1:35]])\n",
    "df_finalB[df_finalA.columns[1:35]] = scaler.transform(df_finalB[df_finalB.columns[1:35]])"
   ]
  },
  {
   "cell_type": "markdown",
   "id": "efbf1017-ef62-425c-be31-4f1894d0e399",
   "metadata": {},
   "source": [
    "### PCA for A\n",
    "Applying the PCA method, we will reduce the dimension of the features down to 2 and observe whether there are any evidence of clustering for sepsis and non-spesis patients. From the plot, we can observe that there are no clear separation between the patients. "
   ]
  },
  {
   "cell_type": "code",
   "execution_count": 16,
   "id": "6464bae6-3561-4d24-a4b1-070e03c304f6",
   "metadata": {},
   "outputs": [],
   "source": [
    "features = ['HR','O2Sat','Temp','SBP','MAP','DBP','Resp','BaseExcess','HCO3','FiO2','pH','PaCO2','SaO2',\n",
    " 'AST','BUN','Alkalinephos','Calcium','Chloride','Creatinine','Bilirubin_direct','Glucose','Lactate','Magnesium',\n",
    " 'Phosphate','Potassium','Bilirubin_total','TroponinI','Hct','Hgb','PTT','WBC','Fibrinogen','Platelets','Age',\n",
    "        'Gender']\n",
    "# Separating out the features\n",
    "x_A = df_finalA.loc[:, features].values\n",
    "# Separating out the target\n",
    "y_A = df_finalA.loc[:,['SepsisLabel']].values\n",
    "# Standardizing the features\n",
    "x_A = StandardScaler().fit_transform(x_A)"
   ]
  },
  {
   "cell_type": "code",
   "execution_count": 17,
   "id": "d82210c5-bfcc-4bf4-a8af-07735483f64f",
   "metadata": {},
   "outputs": [],
   "source": [
    "pca = PCA(n_components=2)\n",
    "principalComponents_A = pca.fit_transform(x_A)\n",
    "principalDf_A = pd.DataFrame(data = principalComponents_A\n",
    "             , columns = ['principal component 1', 'principal component 2'])\n",
    "finalDf_A = pd.concat([principalDf_A, df_finalA[['SepsisLabel']]], axis = 1)"
   ]
  },
  {
   "cell_type": "code",
   "execution_count": 18,
   "id": "b0cc3cfd-dbfa-485b-b9f3-f6edee6dd8d5",
   "metadata": {},
   "outputs": [
    {
     "data": {
      "image/png": "[encoded data removed]",
      "text/plain": [
       "<Figure size 576x576 with 1 Axes>"
      ]
     },
     "metadata": {
      "needs_background": "light"
     },
     "output_type": "display_data"
    }
   ],
   "source": [
    "fig = plt.figure(figsize = (8,8))\n",
    "ax = fig.add_subplot(1,1,1) \n",
    "ax.set_xlabel('Principal Component 1', fontsize = 15)\n",
    "ax.set_ylabel('Principal Component 2', fontsize = 15)\n",
    "ax.set_title('2 component PCA', fontsize = 20)\n",
    "targets = [0.0,1.0]\n",
    "colors = ['r', 'g']\n",
    "for target, color in zip(targets,colors):\n",
    "    indicesToKeep = finalDf_A['SepsisLabel'] == target\n",
    "    ax.scatter(finalDf_A.loc[indicesToKeep, 'principal component 1']\n",
    "               , finalDf_A.loc[indicesToKeep, 'principal component 2']\n",
    "               , c = color\n",
    "               , s = 10)\n",
    "ax.legend(targets)\n",
    "ax.grid()"
   ]
  },
  {
   "cell_type": "markdown",
   "id": "a13b4aab-fccb-4c8a-998a-280f0b4501f6",
   "metadata": {},
   "source": [
    "### umap for A\n",
    "By applying the UMAP method, we are able to reduce the deminson of the data and create a 2D visualization of how the original parameters is related to Sepsis label. We will train the umap 'reducer' using the cleaned and normalized data, 'x_A.' We can then obtain a 2-dimensional representation of all the selected features. We then plot the 2 new feature column by Sepsis lable in a scatter plot. We can observe that there are no clear separation between sepsis patient and non-sepsis patient."
   ]
  },
  {
   "cell_type": "code",
   "execution_count": 19,
   "id": "ca5d4b4a-de7e-472c-bfb2-8e94cf933951",
   "metadata": {},
   "outputs": [
    {
     "data": {
      "image/png": "[encoded data removed]",
      "text/plain": [
       "<Figure size 432x288 with 1 Axes>"
      ]
     },
     "metadata": {
      "needs_background": "light"
     },
     "output_type": "display_data"
    }
   ],
   "source": [
    "reducer = umap.UMAP()\n",
    "embedding_A = reducer.fit_transform(x_A)\n",
    "\n",
    "plt.scatter(\n",
    "    embedding_A[:, 0],\n",
    "    embedding_A[:, 1],\n",
    "    c=df_finalA.SepsisLabel,\n",
    "    s=10\n",
    ")\n",
    "plt.title('UMAP projection of SepsisLabel', fontsize=16)\n",
    "plt.gca().set_aspect('equal', 'datalim')"
   ]
  },
  {
   "cell_type": "markdown",
   "id": "577c4066-fbfc-4034-b290-63f53bc311d7",
   "metadata": {},
   "source": [
    "# Model Implementation"
   ]
  },
  {
   "cell_type": "markdown",
   "id": "6987b53f-7880-4d74-952d-907abdbd6ed6",
   "metadata": {},
   "source": [
    "## Data Pre-processing"
   ]
  },
  {
   "cell_type": "code",
   "execution_count": 20,
   "id": "ee4f98d3-ec73-47a9-8eb1-e485cbf502b4",
   "metadata": {},
   "outputs": [],
   "source": [
    "## split the train_x, train_y, test_x, test_y\n",
    "x_train = df_finalA.iloc[:,1:36]\n",
    "y_train = df_finalA.loc[:, ['SepsisLabel']]\n",
    "x_test = df_finalB.iloc[:,1:36]\n",
    "y_test = df_finalB.loc[:, ['SepsisLabel']]"
   ]
  },
  {
   "cell_type": "markdown",
   "id": "910766d2-d8aa-46d0-96cb-44045380cbbe",
   "metadata": {
    "tags": []
   },
   "source": [
    "### Balancing Data"
   ]
  },
  {
   "cell_type": "code",
   "execution_count": 21,
   "id": "b6ec54bc-7dab-41ea-841a-e9d7c67bebfe",
   "metadata": {},
   "outputs": [
    {
     "name": "stdout",
     "output_type": "stream",
     "text": [
      "Original y:\n",
      "SepsisLabel\n",
      "0.0    18546\n",
      "1.0     1790\n",
      "dtype: int64\n"
     ]
    }
   ],
   "source": [
    "print(\"Original y:\")\n",
    "print(y_train.groupby(y_train[\"SepsisLabel\"]).value_counts(normalize=False)) \n",
    "#18546 \"0\" + 1790 \"1\""
   ]
  },
  {
   "cell_type": "markdown",
   "id": "5f978a55-c587-43ba-aaef-80a8848d6f6d",
   "metadata": {},
   "source": [
    "The original data is highly imbalanced: only 1,790 participants were test positive of Sepsis, which the remaining 18,546 participants were labeled 0 for non-positive. This largely influences the models in classifing the minority class-diagnosed Sepsis, which is more important.  Therefore, we used Synthetic Minority Oversampling Technique (SMOTE) to balance data before building models. Particularly in our case, since one of the covariate `Gender` is binary, we applied the `SMOTENC` function from `imblearn.over_sampling` module and set the `categorical_features` argument to specify it. After balancing on our training sets, we obtained 18,546 zero-labeled records and 18,546 ones of Sepsis. "
   ]
  },
  {
   "cell_type": "code",
   "execution_count": 22,
   "id": "c65a866d-2629-48e8-8fa0-d1fdc1ad98de",
   "metadata": {},
   "outputs": [],
   "source": [
    "sm = SMOTENC(random_state=42, categorical_features=[34]) # Column 35 is Gender, a categorical variable\n",
    "# generate balanced training datasets using SMOTE\n",
    "x_res, y_res = sm.fit_resample(x_train, y_train)\n",
    "# convert the outcome into a numpy array for later convenience\n",
    "y_res = np.ravel(y_res)"
   ]
  },
  {
   "cell_type": "code",
   "execution_count": 23,
   "id": "946398bd-7486-4b50-99ef-74829d39d799",
   "metadata": {},
   "outputs": [
    {
     "name": "stdout",
     "output_type": "stream",
     "text": [
      "After SMOTE:\n",
      "0: 18546\n",
      "1: 18546\n"
     ]
    }
   ],
   "source": [
    "print(\"After SMOTE:\")\n",
    "print(\"0:\", len(y_res[y_res==0]))\n",
    "print(\"1:\", len(y_res[y_res==1]))\n",
    "#18546 \"0\" + 18546 \"1\""
   ]
  },
  {
   "cell_type": "markdown",
   "id": "119fe013-201a-4fdb-b119-2b26b16d2351",
   "metadata": {},
   "source": [
    "### Variable Selection"
   ]
  },
  {
   "cell_type": "markdown",
   "id": "0741b4c9-9d30-45b8-aa64-354c1a47922b",
   "metadata": {},
   "source": [
    "Fitting a LASSO regression, we conducted variable selection before applying classification models. Coefficients of three covariates are relatively small ($<0.005$): `Chloride(mmol/L)`, `Troponin I (ng/mL)` and `Hematocrit (%)`. Therefore, we dropped these above ones and obtained final datasets for modeling."
   ]
  },
  {
   "cell_type": "code",
   "execution_count": 17,
   "id": "531637de-d7bf-4409-8d10-df99b52bcf98",
   "metadata": {},
   "outputs": [
    {
     "name": "stdout",
     "output_type": "stream",
     "text": [
      "MSE: -0.177\n",
      "Config: {'alpha': 0.00013199999999999977}\n"
     ]
    }
   ],
   "source": [
    "lasso_res = GridSearchCV(\n",
    "    Lasso(), \n",
    "    param_grid = {\"alpha\": np.arange(5e-05, 2e-04, 1e-06)},\n",
    "    scoring='neg_mean_squared_error',\n",
    "    cv = StratifiedShuffleSplit(n_splits=5, test_size=0.3, random_state=0),\n",
    "    n_jobs= -1\n",
    ").fit(\n",
    "    x_res, y_res\n",
    ")\n",
    "# summarize\n",
    "print('MSE: %.3f' % lasso_res.best_score_)\n",
    "print('Config: %s' % lasso_res.best_params_)"
   ]
  },
  {
   "cell_type": "code",
   "execution_count": 18,
   "id": "59ddb4db-7a2d-4367-af65-9e235571eaa9",
   "metadata": {},
   "outputs": [
    {
     "data": {
      "text/plain": [
       "array([ 0.01318951, -0.03946967,  0.08545039, -0.00664377, -0.02730352,\n",
       "        0.01094795,  0.10074287,  0.00873825, -0.01293656, -0.12578299,\n",
       "        0.02512151,  0.01405773,  0.01807017,  0.00699177,  0.02372579,\n",
       "       -0.01804076, -0.00531194,  0.00334292,  0.01667495,  0.00538894,\n",
       "       -0.00950088, -0.0269503 ,  0.04007773, -0.01588716, -0.0201449 ,\n",
       "        0.01215504, -0.00112452,  0.00038257, -0.05636893,  0.01626599,\n",
       "        0.03224709,  0.01086034, -0.02830717,  0.01585452,  0.17045032])"
      ]
     },
     "execution_count": 18,
     "metadata": {},
     "output_type": "execute_result"
    }
   ],
   "source": [
    "lasso_coef = lasso_res.best_estimator_.coef_\n",
    "lasso_coef"
   ]
  },
  {
   "cell_type": "code",
   "execution_count": 19,
   "id": "e0b62bd9-961e-40c3-b0dc-0cf4ecc3ffbc",
   "metadata": {},
   "outputs": [
    {
     "data": {
      "text/plain": [
       "Index(['Chloride', 'TroponinI', 'Hct'], dtype='object')"
      ]
     },
     "execution_count": 19,
     "metadata": {},
     "output_type": "execute_result"
    }
   ],
   "source": [
    "discard_coef = x_res.columns[abs(lasso_coef)<=0.005] # if the absolute value of coefficients are less than 0.005, we viewed \n",
    "discard_coef"
   ]
  },
  {
   "cell_type": "code",
   "execution_count": null,
   "id": "5ab10445-2c91-4e0c-a35c-24c30b70a990",
   "metadata": {},
   "outputs": [],
   "source": [
    "# Final data using in following models\n",
    "x_test =x_test.drop(discard_coef, axis=1)\n",
    "x_res =x_res.drop(discard_coef, axis=1)\n",
    "x_train = x_train.drop(discard_coef, axis=1)"
   ]
  },
  {
   "cell_type": "markdown",
   "id": "e66fc878-75a4-4233-acea-ab5279588bb3",
   "metadata": {},
   "source": [
    "### Helper Function"
   ]
  },
  {
   "cell_type": "code",
   "execution_count": 37,
   "id": "83f73ef6-9783-47d8-ab5f-ebf9b8dc013e",
   "metadata": {},
   "outputs": [],
   "source": [
    "# confusion matrix re-formatting\n",
    "def cm_format(y_test, y_pred):\n",
    "    confmat = confusion_matrix(y_test, y_pred)\n",
    "    df = pd.DataFrame({'Prediction 1': [confmat[1,1], confmat[0,1]], 'Prediction 0': [confmat[1,0], confmat[0,0]]})\n",
    "    df.index = ['Test 1', 'Test 0']\n",
    "    return(df)"
   ]
  },
  {
   "cell_type": "markdown",
   "id": "48ecd30f-ac0e-42b9-856b-391714d16abf",
   "metadata": {
    "tags": []
   },
   "source": [
    "## Model 1: Logistic Regression"
   ]
  },
  {
   "cell_type": "code",
   "execution_count": 28,
   "id": "28a96611-e4dc-4e25-97b8-42fbdafb549a",
   "metadata": {},
   "outputs": [
    {
     "data": {
      "text/plain": [
       "GridSearchCV(cv=StratifiedKFold(n_splits=5, random_state=1234, shuffle=True),\n",
       "             estimator=SGDClassifier(),\n",
       "             param_grid={'alpha': [0.001, 0.011, 0.020999999999999998,\n",
       "                                   0.030999999999999996, 0.040999999999999995,\n",
       "                                   0.05099999999999999, 0.06099999999999999,\n",
       "                                   0.071, 0.08099999999999999,\n",
       "                                   0.09099999999999998, 0.10099999999999998,\n",
       "                                   0.11099999999999999, 0.12099999999999998,\n",
       "                                   0.13099...,\n",
       "                                   0.15099999999999997, 0.16099999999999998,\n",
       "                                   0.17099999999999999, 0.18099999999999997,\n",
       "                                   0.19099999999999998, 0.20099999999999996,\n",
       "                                   0.21099999999999997, 0.22099999999999997,\n",
       "                                   0.23099999999999996, 0.24099999999999996,\n",
       "                                   0.25099999999999995, 0.26099999999999995,\n",
       "                                   0.27099999999999996, 0.28099999999999997,\n",
       "                                   0.291, ...],\n",
       "                         'loss': ['log'],\n",
       "                         'penalty': ('l1', 'l2', 'elasticnet', 'none')})"
      ]
     },
     "execution_count": 28,
     "metadata": {},
     "output_type": "execute_result"
    }
   ],
   "source": [
    "np.random.seed(1234)\n",
    "parameters = {'loss':['log'], 'penalty': ('l1', 'l2', 'elasticnet', 'none'), 'alpha': list(np.arange(0.001,1,0.01))}\n",
    "logistic = SGDClassifier()\n",
    "logistic_cv = GridSearchCV(logistic, parameters, \n",
    "                           cv = sklearn.model_selection.StratifiedKFold(5, shuffle=True, random_state=1234))\n",
    "logistic_cv.fit(x_res,y_res)"
   ]
  },
  {
   "cell_type": "code",
   "execution_count": 32,
   "id": "99aa8286-da20-426c-886d-a502cbbeeb03",
   "metadata": {},
   "outputs": [
    {
     "name": "stdout",
     "output_type": "stream",
     "text": [
      "tuned hpyerparameters :(best parameters)  {'alpha': 0.011, 'loss': 'log', 'penalty': 'l2'}\n",
      "accuracy : 0.758734855900906\n"
     ]
    }
   ],
   "source": [
    "print(\"tuned hpyerparameters :(best parameters) \",logistic_cv.best_params_)\n",
    "print(\"accuracy :\",logistic_cv.best_score_)"
   ]
  },
  {
   "cell_type": "code",
   "execution_count": 34,
   "id": "fd7aba7a-6272-48c0-946b-0cfaf5152b85",
   "metadata": {},
   "outputs": [
    {
     "data": {
      "text/plain": [
       "SGDClassifier(alpha=0.011, loss='log')"
      ]
     },
     "execution_count": 34,
     "metadata": {},
     "output_type": "execute_result"
    }
   ],
   "source": [
    "LR_best = SGDClassifier(loss = logistic_cv.best_params_[\"loss\"], \n",
    "                        penalty = logistic_cv.best_params_[\"penalty\"], \n",
    "                        alpha = logistic_cv.best_params_[\"alpha\"]) \n",
    "LR_best.fit(x_res,y_res)"
   ]
  },
  {
   "cell_type": "code",
   "execution_count": 35,
   "id": "3f30191f-af08-4b44-9f1c-b0a15fe13174",
   "metadata": {},
   "outputs": [
    {
     "data": {
      "text/plain": [
       "0.8479"
      ]
     },
     "execution_count": 35,
     "metadata": {},
     "output_type": "execute_result"
    }
   ],
   "source": [
    "y_pred_LR = LR_best.predict(x_test)\n",
    "accuracy_score(y_test,y_pred_LR)"
   ]
  },
  {
   "cell_type": "code",
   "execution_count": 38,
   "id": "9db45c81-e233-48d6-aeb6-f93b9c4fc481",
   "metadata": {},
   "outputs": [
    {
     "name": "stdout",
     "output_type": "stream",
     "text": [
      "        Prediction 1  Prediction 0\n",
      "Test 1           554           588\n",
      "Test 0          2454         16404\n"
     ]
    }
   ],
   "source": [
    "print(cm_format(y_test, y_pred_LR))"
   ]
  },
  {
   "cell_type": "code",
   "execution_count": 39,
   "id": "07e5ad55-a6e1-4173-ac89-85beb841fb2d",
   "metadata": {},
   "outputs": [
    {
     "name": "stdout",
     "output_type": "stream",
     "text": [
      "              precision    recall  f1-score   support\n",
      "\n",
      "         0.0       0.97      0.87      0.92     18858\n",
      "         1.0       0.18      0.49      0.27      1142\n",
      "\n",
      "    accuracy                           0.85     20000\n",
      "   macro avg       0.57      0.68      0.59     20000\n",
      "weighted avg       0.92      0.85      0.88     20000\n",
      "\n"
     ]
    }
   ],
   "source": [
    "print(classification_report(y_test, y_pred_LR))"
   ]
  },
  {
   "cell_type": "code",
   "execution_count": 40,
   "id": "cd546b54-e47f-4478-9014-07bffa528117",
   "metadata": {},
   "outputs": [
    {
     "data": {
      "image/png": "[encoded data removed]",
      "text/plain": [
       "<Figure size 432x288 with 1 Axes>"
      ]
     },
     "metadata": {
      "needs_background": "light"
     },
     "output_type": "display_data"
    },
    {
     "name": "stdout",
     "output_type": "stream",
     "text": [
      "AUC 0.780117242720459\n"
     ]
    }
   ],
   "source": [
    "# ROC plot and AUC for Logistic Regression\n",
    "fpr, tpr, thresholds = roc_curve(y_test, LR_best.predict_proba(x_test)[:,1])\n",
    "roc_auc = auc(fpr, tpr)\n",
    "disp = RocCurveDisplay(fpr=fpr, tpr=tpr, roc_auc=roc_auc,\n",
    "                       estimator_name='Logistic Regression').plot()\n",
    "plt.show()\n",
    "print(\"AUC\", roc_auc)"
   ]
  },
  {
   "cell_type": "markdown",
   "id": "fb14e146-0cb2-4f89-b428-aa3b08edafd6",
   "metadata": {
    "tags": []
   },
   "source": [
    "##### Fit the Logistic Regression Model by SGD\n",
    "Applying the Stochastic Gradient Descent (SGD) to the regularized linear methods can help building an estimator for classification and regression problems. The SGD classifier works well with large-scale datasets and it is an efficient and easy to implement method.\n",
    "Compared by the accuracy, the logistic regression with l1 norm has better performance. "
   ]
  },
  {
   "cell_type": "code",
   "execution_count": null,
   "id": "950b5d55-d544-457d-af8d-ac7646bf9504",
   "metadata": {},
   "outputs": [],
   "source": [
    "# coeffient\n",
    "coef = LR_best.coef_.ravel()\n",
    "pyplot.stem(coef, use_line_collection=True)"
   ]
  },
  {
   "cell_type": "markdown",
   "id": "f1fbabc6-af18-4135-b06e-444838eb997e",
   "metadata": {},
   "source": [
    "## Model 2: KNN"
   ]
  },
  {
   "cell_type": "code",
   "execution_count": 26,
   "id": "84bd6b35-8daf-4259-80c4-83f4712667e5",
   "metadata": {},
   "outputs": [
    {
     "name": "stdout",
     "output_type": "stream",
     "text": [
      "{'n_neighbors': 16}\n",
      "0.8404234763694923\n"
     ]
    }
   ],
   "source": [
    "KNN_gs = GridSearchCV(\n",
    "   KNeighborsClassifier(),\n",
    "   param_grid = {\n",
    "     \"n_neighbors\": np.arange(15, 25)\n",
    "   },\n",
    "   cv = sklearn.model_selection.StratifiedKFold(10, shuffle=True, random_state=1234),\n",
    "   scoring = \"accuracy\",\n",
    "   n_jobs = 4\n",
    " ).fit(\n",
    "   x_res, y_res\n",
    " )\n",
    "\n",
    "print(KNN_gs.best_params_)\n",
    "print(KNN_gs.best_score_)"
   ]
  },
  {
   "cell_type": "code",
   "execution_count": 65,
   "id": "953a81f8-e851-4d87-8941-091f9a231809",
   "metadata": {},
   "outputs": [
    {
     "data": {
      "text/plain": [
       "0.7591"
      ]
     },
     "execution_count": 65,
     "metadata": {},
     "output_type": "execute_result"
    }
   ],
   "source": [
    "y_pred_KNN = KNN_gs.predict(x_test)\n",
    "accuracy_score(y_test,y_pred_KNN)"
   ]
  },
  {
   "cell_type": "code",
   "execution_count": 66,
   "id": "5294284d-6b1b-4f52-93d1-fe3e5720328b",
   "metadata": {},
   "outputs": [
    {
     "name": "stdout",
     "output_type": "stream",
     "text": [
      "              precision    recall  f1-score   support\n",
      "\n",
      "         0.0       0.97      0.77      0.86     18858\n",
      "         1.0       0.13      0.55      0.21      1142\n",
      "\n",
      "    accuracy                           0.76     20000\n",
      "   macro avg       0.55      0.66      0.53     20000\n",
      "weighted avg       0.92      0.76      0.82     20000\n",
      "\n"
     ]
    }
   ],
   "source": [
    "print(classification_report(y_test, y_pred_KNN))"
   ]
  },
  {
   "cell_type": "code",
   "execution_count": 67,
   "id": "70ed4db6-7692-4646-b513-939d06402566",
   "metadata": {},
   "outputs": [
    {
     "name": "stdout",
     "output_type": "stream",
     "text": [
      "        Prediction 1  Prediction 0\n",
      "Test 1           633           509\n",
      "Test 0          4309         14549\n"
     ]
    }
   ],
   "source": [
    "print(cm_format(y_test, y_pred_KNN))"
   ]
  },
  {
   "cell_type": "code",
   "execution_count": 28,
   "id": "6c450d04-7dc8-48b3-8645-145c0211db4d",
   "metadata": {},
   "outputs": [
    {
     "data": {
      "image/png": "[encoded data removed]",
      "text/plain": [
       "<Figure size 432x288 with 1 Axes>"
      ]
     },
     "metadata": {
      "needs_background": "light"
     },
     "output_type": "display_data"
    },
    {
     "name": "stdout",
     "output_type": "stream",
     "text": [
      "AUC 0.7165243550331643\n"
     ]
    }
   ],
   "source": [
    "# ROC plot and AUC for KNN\n",
    "fpr, tpr, thresholds = roc_curve(y_test, KNN_gs.predict_proba(x_test)[:,1])\n",
    "roc_auc = auc(fpr, tpr)\n",
    "disp = RocCurveDisplay(fpr=fpr, tpr=tpr, roc_auc=roc_auc,\n",
    "                       estimator_name='Logistic Regression').plot()\n",
    "plt.show()\n",
    "print(\"AUC\", roc_auc)"
   ]
  },
  {
   "cell_type": "markdown",
   "id": "521470ad-90a8-4690-9121-62e63b87f4de",
   "metadata": {},
   "source": [
    "## Model 3: Naive Bayes"
   ]
  },
  {
   "cell_type": "code",
   "execution_count": 41,
   "id": "f34b5fea-f612-4a0b-b0d8-6e2c2218cd6a",
   "metadata": {},
   "outputs": [
    {
     "name": "stdout",
     "output_type": "stream",
     "text": [
      "{'var_smoothing': 1.5172413793103448}\n",
      "0.7242802057209133\n"
     ]
    }
   ],
   "source": [
    "NB_gs = GridSearchCV(\n",
    "  GaussianNB(),\n",
    "  param_grid = {\n",
    "      \"var_smoothing\": np.linspace(1.5, 2.0, 30)\n",
    "  },\n",
    "  cv = sklearn.model_selection.StratifiedKFold(10, shuffle=True, random_state=1234),\n",
    "  scoring = \"accuracy\",\n",
    "  n_jobs = -1\n",
    ").fit(\n",
    "  x_res, y_res\n",
    ")\n",
    "\n",
    "print(NB_gs.best_params_)\n",
    "print(NB_gs.best_score_)"
   ]
  },
  {
   "cell_type": "code",
   "execution_count": 42,
   "id": "9e6cda51-e249-49f9-8842-5fbbb4bfec7c",
   "metadata": {},
   "outputs": [
    {
     "data": {
      "text/plain": [
       "0.84975"
      ]
     },
     "execution_count": 42,
     "metadata": {},
     "output_type": "execute_result"
    }
   ],
   "source": [
    "y_pred_NB = NB_gs.predict(x_test)\n",
    "accuracy_score(y_test,y_pred_NB)"
   ]
  },
  {
   "cell_type": "code",
   "execution_count": 44,
   "id": "43d0cf28-43de-4df0-a079-692562587e84",
   "metadata": {},
   "outputs": [
    {
     "name": "stdout",
     "output_type": "stream",
     "text": [
      "              precision    recall  f1-score   support\n",
      "\n",
      "         0.0       0.96      0.87      0.92     18858\n",
      "         1.0       0.18      0.45      0.26      1142\n",
      "\n",
      "    accuracy                           0.85     20000\n",
      "   macro avg       0.57      0.66      0.59     20000\n",
      "weighted avg       0.92      0.85      0.88     20000\n",
      "\n"
     ]
    }
   ],
   "source": [
    "print(classification_report(y_test, y_pred_NB))"
   ]
  },
  {
   "cell_type": "code",
   "execution_count": 45,
   "id": "e374a78e-6885-4bf1-a068-6c4a37b1cde1",
   "metadata": {},
   "outputs": [
    {
     "name": "stdout",
     "output_type": "stream",
     "text": [
      "        Prediction 1  Prediction 0\n",
      "Test 1           516           626\n",
      "Test 0          2379         16479\n"
     ]
    }
   ],
   "source": [
    "print(cm_format(y_test, y_pred_NB))"
   ]
  },
  {
   "cell_type": "code",
   "execution_count": 46,
   "id": "f071f39e-1b88-4451-938a-c33b32414ee3",
   "metadata": {},
   "outputs": [
    {
     "data": {
      "image/png": "[encoded data removed]",
      "text/plain": [
       "<Figure size 432x288 with 1 Axes>"
      ]
     },
     "metadata": {
      "needs_background": "light"
     },
     "output_type": "display_data"
    },
    {
     "name": "stdout",
     "output_type": "stream",
     "text": [
      "AUC 0.7015471793154442\n"
     ]
    }
   ],
   "source": [
    "# ROC plot and AUC for Naive Bayes\n",
    "fpr, tpr, thresholds = roc_curve(y_test, NB_gs.predict_proba(x_test)[:,1])\n",
    "roc_auc = auc(fpr, tpr)\n",
    "disp = RocCurveDisplay(fpr=fpr, tpr=tpr, roc_auc=roc_auc,\n",
    "                       estimator_name='Logistic Regression').plot()\n",
    "plt.show()\n",
    "print(\"AUC\", roc_auc)"
   ]
  },
  {
   "cell_type": "markdown",
   "id": "23299a54-40a2-462e-a95f-9943bbf7cad2",
   "metadata": {},
   "source": [
    "## Model 4: Random Forest"
   ]
  },
  {
   "cell_type": "markdown",
   "id": "39ef797a-9ec2-4994-929a-7d6ae5cbf588",
   "metadata": {},
   "source": [
    "The forth model we built is random forest. Based on the balanced dataset, we tuned parameters using 5-fold cross-validation method. The optimal model with the maximum depth of the tree being 50, results in an 96.29% training accuracy. However, when we applied it to test data, the random forest performs poorly in predicting Sepsis patients, which leads to the result that the test accuracy is only about 77.07% and AUC"
   ]
  },
  {
   "cell_type": "code",
   "execution_count": 24,
   "id": "c71174a9-7ba2-4c89-8ea0-d2bead795f90",
   "metadata": {},
   "outputs": [],
   "source": [
    "rf_res = GridSearchCV(\n",
    "    RandomForestClassifier(), \n",
    "    param_grid = {\n",
    "        \"max_depth\": [40, 45, 50, 55, 60], \n",
    "        \"n_estimators\": [10, 50, 100], \n",
    "        \"min_samples_leaf\": [1, 2, 5]},\n",
    "    cv = StratifiedShuffleSplit(n_splits=5, test_size=0.2, random_state=0),\n",
    "    n_jobs= -1\n",
    ").fit(\n",
    "    x_res, y_res\n",
    ")"
   ]
  },
  {
   "cell_type": "code",
   "execution_count": 34,
   "id": "3110aaca-f4c3-4094-92c9-3aba3db70834",
   "metadata": {},
   "outputs": [
    {
     "name": "stdout",
     "output_type": "stream",
     "text": [
      "Best Estimator from Random Forest is: RandomForestClassifier(max_depth=50)\n",
      "training accuracy : 0.9628790942175496\n",
      "              precision    recall  f1-score   support\n",
      "\n",
      "         0.0       0.96      0.79      0.87     18858\n",
      "         1.0       0.11      0.42      0.17      1142\n",
      "\n",
      "    accuracy                           0.77     20000\n",
      "   macro avg       0.53      0.61      0.52     20000\n",
      "weighted avg       0.91      0.77      0.83     20000\n",
      "\n"
     ]
    }
   ],
   "source": [
    "print(\"Best Estimator from Random Forest is:\", rf_res.best_estimator_)\n",
    "print(\"training accuracy :\", rf_res.best_score_)\n",
    "print(classification_report(y_test, rf_res.best_estimator_.predict(x_test)))"
   ]
  },
  {
   "cell_type": "code",
   "execution_count": 68,
   "id": "c16c17f8-c6e7-4a2f-85e5-6c2a4620a788",
   "metadata": {},
   "outputs": [
    {
     "data": {
      "text/plain": [
       "0.77065"
      ]
     },
     "execution_count": 68,
     "metadata": {},
     "output_type": "execute_result"
    }
   ],
   "source": [
    "y_pred_rf = rf_res.predict(x_test)\n",
    "accuracy_score(y_test,y_pred_rf)"
   ]
  },
  {
   "cell_type": "code",
   "execution_count": 25,
   "id": "b314b727-877e-4b5c-af02-f3c76104d91f",
   "metadata": {},
   "outputs": [
    {
     "data": {
      "image/png": "[encoded data removed]",
      "text/plain": [
       "<Figure size 432x288 with 1 Axes>"
      ]
     },
     "metadata": {
      "needs_background": "light"
     },
     "output_type": "display_data"
    },
    {
     "name": "stdout",
     "output_type": "stream",
     "text": [
      "AUC 0.6305942801570369\n"
     ]
    }
   ],
   "source": [
    "# ROC plot and AUC for RF\n",
    "fpr, tpr, thresholds = roc_curve(y_test, rf_res.predict_proba(x_test)[:,1])\n",
    "roc_auc = auc(fpr, tpr)\n",
    "disp = RocCurveDisplay(fpr=fpr, tpr=tpr, roc_auc=roc_auc,\n",
    "                       estimator_name='XGBoost').plot()\n",
    "plt.show()\n",
    "print(\"AUC\", roc_auc)"
   ]
  },
  {
   "cell_type": "code",
   "execution_count": 69,
   "id": "e1d7317f-5a14-4c88-abe9-d3f0951f4660",
   "metadata": {},
   "outputs": [
    {
     "name": "stdout",
     "output_type": "stream",
     "text": [
      "        Prediction 1  Prediction 0\n",
      "Test 1           482           660\n",
      "Test 0          3927         14931\n"
     ]
    }
   ],
   "source": [
    "print(cm_format(y_test, y_pred_rf))"
   ]
  },
  {
   "cell_type": "markdown",
   "id": "0dc51c1b-3a69-42ac-a719-518317de85c6",
   "metadata": {},
   "source": [
    "## Model 5: XGBoost"
   ]
  },
  {
   "cell_type": "markdown",
   "id": "0c134de6-17de-44d0-bf5d-388410defa2b",
   "metadata": {},
   "source": [
    "Because `XGBClassifier` has a built-in parameter `scale_pos_weight`, which controls the balance of positive and negative weights for an imbalance dataset. Therefore, using the balanced dataset from SMOTE is not necessary.\n"
   ]
  },
  {
   "cell_type": "code",
   "execution_count": 47,
   "id": "54db8d4e-9301-44ce-a632-ea81bbee2c72",
   "metadata": {},
   "outputs": [
    {
     "name": "stdout",
     "output_type": "stream",
     "text": [
      "Best Estimator from XGBoost is: {'eta': 0.8, 'max_depth': 3, 'n_estimators': 150, 'scale_pos_weight': 10.360893854748603}\n",
      "accuracy : 0.8650667325251884\n"
     ]
    }
   ],
   "source": [
    "y_tr = np.ravel(y_train)\n",
    "\n",
    "xbg_gs = GridSearchCV(\n",
    "   xgb.XGBClassifier(),\n",
    "   param_grid = {'n_estimators': range(50,200,50), 'max_depth': range(2,4,1), \n",
    "                 'eta': list(np.arange(0.2,1,0.2)), 'scale_pos_weight': [sum(y_tr==0)/sum(y_tr==1)]},\n",
    "   cv = StratifiedKFold(n_splits=5, shuffle=True, random_state=1234),\n",
    "   scoring = \"accuracy\",\n",
    "   n_jobs = 4\n",
    " ).fit(\n",
    "   x_train, y_train\n",
    " )\n",
    "\n",
    "print(\"Best Estimator from XGBoost is:\", xbg_gs.best_params_)\n",
    "print(\"accuracy :\", xbg_gs.best_score_)"
   ]
  },
  {
   "cell_type": "code",
   "execution_count": 48,
   "id": "f4dec1de-793d-4d3f-820b-20a975a3e11a",
   "metadata": {},
   "outputs": [
    {
     "data": {
      "text/plain": [
       "0.8294"
      ]
     },
     "execution_count": 48,
     "metadata": {},
     "output_type": "execute_result"
    }
   ],
   "source": [
    "y_pred_xgb = xbg_gs.best_estimator_.predict(x_test)\n",
    "accuracy_score(y_test,y_pred_xgb)"
   ]
  },
  {
   "cell_type": "code",
   "execution_count": 49,
   "id": "62e272bc-17e8-4757-b7e6-3d11df750440",
   "metadata": {},
   "outputs": [
    {
     "data": {
      "image/png": "[encoded data removed]",
      "text/plain": [
       "<Figure size 432x288 with 1 Axes>"
      ]
     },
     "metadata": {
      "needs_background": "light"
     },
     "output_type": "display_data"
    },
    {
     "name": "stdout",
     "output_type": "stream",
     "text": [
      "AUC 0.6782110060644964\n"
     ]
    }
   ],
   "source": [
    "# ROC plot and AUC for XGB\n",
    "fpr, tpr, thresholds = roc_curve(y_test, xbg_gs.predict_proba(x_test)[:,1])\n",
    "roc_auc = auc(fpr, tpr)\n",
    "disp = RocCurveDisplay(fpr=fpr, tpr=tpr, roc_auc=roc_auc,\n",
    "                       estimator_name='XGBoost').plot()\n",
    "plt.show()\n",
    "print(\"AUC\", roc_auc)"
   ]
  },
  {
   "cell_type": "code",
   "execution_count": 50,
   "id": "22c5f204-09db-4a44-a061-406a59b43b19",
   "metadata": {},
   "outputs": [
    {
     "name": "stdout",
     "output_type": "stream",
     "text": [
      "XGBoost Confusion Matrix:\n",
      "        Prediction 1  Prediction 0\n",
      "Test 1           447           695\n",
      "Test 0          2717         16141\n"
     ]
    }
   ],
   "source": [
    "print(\"XGBoost Confusion Matrix:\")\n",
    "print(cm_format(y_test, y_pred_xgb))"
   ]
  },
  {
   "cell_type": "code",
   "execution_count": 51,
   "id": "e08700cc-b898-43d8-9075-512754d9f32e",
   "metadata": {},
   "outputs": [
    {
     "name": "stdout",
     "output_type": "stream",
     "text": [
      "              precision    recall  f1-score   support\n",
      "\n",
      "         0.0       0.96      0.86      0.90     18858\n",
      "         1.0       0.14      0.39      0.21      1142\n",
      "\n",
      "    accuracy                           0.83     20000\n",
      "   macro avg       0.55      0.62      0.56     20000\n",
      "weighted avg       0.91      0.83      0.86     20000\n",
      "\n"
     ]
    }
   ],
   "source": [
    "print(classification_report(y_test, y_pred_xgb))"
   ]
  },
  {
   "cell_type": "markdown",
   "id": "1122775e-b144-4fe6-ae6a-e42c86680596",
   "metadata": {
    "tags": []
   },
   "source": [
    "### Neural Network for Classification with Tensorflow"
   ]
  },
  {
   "cell_type": "code",
   "execution_count": null,
   "id": "1f18f47e-1eac-43bd-ab0e-65faf45ae57f",
   "metadata": {},
   "outputs": [],
   "source": [
    "# tf.random.set_seed(42)\n",
    "# model_nn = tf.keras.Sequential([\n",
    "#     tf.keras.layers.Dense(10, activation = 'sigmoid'), \n",
    "#     tf.keras.layers.Dense(10, activation = 'sigmoid'),\n",
    "#     tf.keras.layers.Dense(1, activation = 'sigmoid')\n",
    "# ])\n",
    "\n",
    "# model_nn.compile(loss= tf.keras.losses.binary_crossentropy,\n",
    "#                 optimizer = tf.keras.optimizers.Adam(),\n",
    "#                 metrics = ['accuracy'])\n",
    "\n",
    "# history = model_nn.fit(x_train, np.ravel(y_train), validation_data=(x_test, y_test), epochs = 200, verbose = 0)"
   ]
  },
  {
   "cell_type": "code",
   "execution_count": null,
   "id": "edb5e806-f513-448f-b168-481ce56c2c57",
   "metadata": {},
   "outputs": [],
   "source": [
    "# loss, accuracy = model_nn.evaluate(x_test, y_test)\n",
    "# print(f' Model loss on the test set: {loss}')\n",
    "# print(f' Model accuracy on the test set: {100*accuracy}')"
   ]
  },
  {
   "cell_type": "markdown",
   "id": "722c04e4-071f-4be6-befa-9ef8de5ba020",
   "metadata": {},
   "source": [
    "## Result/Diagnosis"
   ]
  },
  {
   "cell_type": "code",
   "execution_count": null,
   "id": "52ad270f-94b8-49b6-a970-9028075a620a",
   "metadata": {},
   "outputs": [
    {
     "data": {
      "text/html": [
       "<div>\n",
       "<style scoped>\n",
       "    .dataframe tbody tr th:only-of-type {\n",
       "        vertical-align: middle;\n",
       "    }\n",
       "\n",
       "    .dataframe tbody tr th {\n",
       "        vertical-align: top;\n",
       "    }\n",
       "\n",
       "    .dataframe thead th {\n",
       "        text-align: right;\n",
       "    }\n",
       "</style>\n",
       "<table border=\"1\" class=\"dataframe\">\n",
       "  <thead>\n",
       "    <tr style=\"text-align: right;\">\n",
       "      <th></th>\n",
       "      <th>LR</th>\n",
       "      <th>KNN</th>\n",
       "      <th>NB</th>\n",
       "      <th>RF</th>\n",
       "      <th>XGB</th>\n",
       "    </tr>\n",
       "  </thead>\n",
       "  <tbody>\n",
       "    <tr>\n",
       "      <th>Accuracy</th>\n",
       "      <td>0.8412</td>\n",
       "      <td>0.7591</td>\n",
       "      <td>0.8253</td>\n",
       "      <td>0.7282</td>\n",
       "      <td>0.7809</td>\n",
       "    </tr>\n",
       "    <tr>\n",
       "      <th>AUC</th>\n",
       "      <td>0.7801</td>\n",
       "      <td>0.7165</td>\n",
       "      <td>0.7595</td>\n",
       "      <td>0.6306</td>\n",
       "      <td>0.7452</td>\n",
       "    </tr>\n",
       "  </tbody>\n",
       "</table>\n",
       "</div>"
      ],
      "text/plain": [
       "              LR     KNN      NB      RF     XGB\n",
       "Accuracy  0.8412  0.7591  0.8253  0.7282  0.7809\n",
       "AUC       0.7801  0.7165  0.7595  0.6306  0.7452"
      ]
     },
     "execution_count": 66,
     "metadata": {},
     "output_type": "execute_result"
    }
   ],
   "source": [
    "# test accuracy and AUC summary\n",
    "df = pd.DataFrame({'LR': [0.8412,0.7801], 'KNN': [0.7591,0.7165], 'NB': [0.8253,0.7595],\n",
    "                   'RF': [0.7282,0.6306], 'XGB': [0.7809,0.7452]})\n",
    "df.index = ['Accuracy','AUC']\n",
    "df"
   ]
  },
  {
   "cell_type": "code",
   "execution_count": 88,
   "id": "5709b060-4c17-42bb-91f4-5239256d284c",
   "metadata": {},
   "outputs": [
    {
     "data": {
      "image/png": "[encoded data removed]",
      "text/plain": [
       "<Figure size 432x288 with 1 Axes>"
      ]
     },
     "metadata": {
      "needs_background": "light"
     },
     "output_type": "display_data"
    }
   ],
   "source": [
    "# AUC plot\n",
    "# https://stackoverflow.com/questions/42894871/how-to-plot-multiple-roc-curves-in-one-plot-with-legend-and-auc-scores-in-python\n",
    "y_pred_prob1 = LR_best.predict_proba(x_test)[:,1]\n",
    "fpr1 , tpr1, thresholds1 = roc_curve(y_test, y_pred_prob1)\n",
    "\n",
    "y_pred_prob2 = KNN_gs.predict_proba(x_test)[:,1]\n",
    "fpr2 , tpr2, thresholds2 = roc_curve(y_test, y_pred_prob2)\n",
    "\n",
    "y_pred_prob3 = NB_gs.predict_proba(x_test)[:,1]\n",
    "fpr3 , tpr3, thresholds3 = roc_curve(y_test, y_pred_prob3)\n",
    "\n",
    "y_pred_prob4 = rf_res.predict_proba(x_test)[:,1]\n",
    "fpr4 , tpr4, thresholds4 = roc_curve(y_test, y_pred_prob4)\n",
    "\n",
    "y_pred_prob5 = xbg_gs.predict_proba(x_test)[:,1]\n",
    "fpr5 , tpr5, thresholds5 = roc_curve(y_test, y_pred_prob5)\n",
    "\n",
    "\n",
    "plt.plot([0,1],[0,1], 'k--')\n",
    "plt.plot(fpr1, tpr1, label= \"LR\")\n",
    "plt.plot(fpr2, tpr2, label= \"KNN\")\n",
    "plt.plot(fpr3, tpr3, label= \"NB\")\n",
    "plt.plot(fpr4, tpr4, label= \"RF\")\n",
    "plt.plot(fpr5, tpr5, label= \"XGB\")\n",
    "plt.legend()\n",
    "plt.xlabel(\"FPR\")\n",
    "plt.ylabel(\"TPR\")\n",
    "plt.title('ROC Curve')\n",
    "plt.show()\n"
   ]
  },
  {
   "cell_type": "code",
   "execution_count": 68,
   "id": "130fe7cb-e4b2-436e-9bf7-7fdd87ec3311",
   "metadata": {},
   "outputs": [
    {
     "name": "stdout",
     "output_type": "stream",
     "text": [
      "Logistics Regression\n",
      "        Prediction 1  Prediction 0\n",
      "Test 1           556           586\n",
      "Test 0          2591         16267\n",
      "KNN\n",
      "        Prediction 1  Prediction 0\n",
      "Test 1           633           509\n",
      "Test 0          4309         14549\n",
      "Naive Bayes\n",
      "        Prediction 1  Prediction 0\n",
      "Test 1           656           486\n",
      "Test 0          3009         15849\n",
      "Random Forest\n",
      "        Prediction 1  Prediction 0\n",
      "Test 1           547           595\n",
      "Test 0          4842         14016\n",
      "XGBoost\n",
      "        Prediction 1  Prediction 0\n",
      "Test 1           589           553\n",
      "Test 0          3829         15029\n"
     ]
    }
   ],
   "source": [
    "# Confusion Matrix\n",
    "print(\"Logistics Regression\")\n",
    "print(cm_format(y_test, y_pred_LR))\n",
    "print(\"KNN\")\n",
    "print(cm_format(y_test, y_pred_KNN))\n",
    "print(\"Naive Bayes\")\n",
    "print(cm_format(y_test, y_pred_NB))\n",
    "print(\"Random Forest\")\n",
    "print(cm_format(y_test, y_pred_rf))\n",
    "print(\"XGBoost\")\n",
    "print(cm_format(y_test, y_pred_xgb))"
   ]
  },
  {
   "cell_type": "markdown",
   "id": "c5dc1e4f-89ae-43b4-929e-b37a36c463ce",
   "metadata": {},
   "source": [
    "### Variable Importance"
   ]
  },
  {
   "cell_type": "code",
   "execution_count": 58,
   "id": "618e82fe-d651-4439-a7fb-34ce97676d3d",
   "metadata": {},
   "outputs": [
    {
     "data": {
      "text/plain": [
       "<StemContainer object of 3 artists>"
      ]
     },
     "execution_count": 58,
     "metadata": {},
     "output_type": "execute_result"
    },
    {
     "data": {
      "image/png": "[encoded data removed]",
      "text/plain": [
       "<Figure size 432x288 with 1 Axes>"
      ]
     },
     "metadata": {
      "needs_background": "light"
     },
     "output_type": "display_data"
    }
   ],
   "source": [
    "# Logistic regression\n",
    "coef = LR_best.coef_.ravel()\n",
    "imps_lr = permutation_importance(LR_best, x_test, y_test)\n",
    "pyplot.stem(imps_lr.importances_mean, use_line_collection=True)"
   ]
  },
  {
   "cell_type": "code",
   "execution_count": 59,
   "id": "305c418c-9a3f-4779-a876-cab828c9c54d",
   "metadata": {},
   "outputs": [
    {
     "data": {
      "text/plain": [
       "<StemContainer object of 3 artists>"
      ]
     },
     "execution_count": 59,
     "metadata": {},
     "output_type": "execute_result"
    },
    {
     "data": {
      "image/png": "[encoded data removed]",
      "text/plain": [
       "<Figure size 432x288 with 1 Axes>"
      ]
     },
     "metadata": {
      "needs_background": "light"
     },
     "output_type": "display_data"
    }
   ],
   "source": [
    "# NB\n",
    "from sklearn.inspection import permutation_importance\n",
    "imps = permutation_importance(NB_gs, x_test, y_test)\n",
    "pyplot.stem(imps.importances_mean, use_line_collection=True)"
   ]
  },
  {
   "cell_type": "code",
   "execution_count": 73,
   "id": "e9f151c8-ce54-4fd3-970d-07bbbb3a53de",
   "metadata": {},
   "outputs": [
    {
     "data": {
      "text/plain": [
       "Index(['HCO3', 'Alkalinephos', 'Creatinine', 'TroponinI', 'Hct'], dtype='object')"
      ]
     },
     "execution_count": 73,
     "metadata": {},
     "output_type": "execute_result"
    }
   ],
   "source": [
    "x_test.columns[[8,15,18,26,27]]"
   ]
  }
 ],
 "metadata": {
  "kernelspec": {
   "display_name": "Python 3 (ipykernel)",
   "language": "python",
   "name": "python3"
  },
  "language_info": {
   "codemirror_mode": {
    "name": "ipython",
    "version": 3
   },
   "file_extension": ".py",
   "mimetype": "text/x-python",
   "name": "python",
   "nbconvert_exporter": "python",
   "pygments_lexer": "ipython3",
   "version": "3.10.4"
  }
 },
 "nbformat": 4,
 "nbformat_minor": 5
}
